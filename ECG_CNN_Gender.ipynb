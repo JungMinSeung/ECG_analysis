{
  "nbformat": 4,
  "nbformat_minor": 0,
  "metadata": {
    "colab": {
      "name": "ECG_CNN_Gender.ipynb",
      "provenance": [],
      "collapsed_sections": [],
      "authorship_tag": "ABX9TyNlyYn5pN+Mnz0UjkoCP/6A",
      "include_colab_link": true
    },
    "kernelspec": {
      "name": "python3",
      "display_name": "Python 3"
    },
    "accelerator": "GPU"
  },
  "cells": [
    {
      "cell_type": "markdown",
      "metadata": {
        "id": "view-in-github",
        "colab_type": "text"
      },
      "source": [
        "<a href=\"https://colab.research.google.com/github/JungMinSeung/ECG_analysis/blob/master/ECG_CNN_Gender.ipynb\" target=\"_parent\"><img src=\"https://colab.research.google.com/assets/colab-badge.svg\" alt=\"Open In Colab\"/></a>"
      ]
    },
    {
      "cell_type": "code",
      "metadata": {
        "id": "sCCJ4_m_uIN8",
        "colab_type": "code",
        "colab": {
          "base_uri": "https://localhost:8080/",
          "height": 127
        },
        "outputId": "a59600ba-0d3c-4864-85aa-372b6fab4bc8"
      },
      "source": [
        "from google.colab import drive\n",
        "drive.mount('/content/drive/')"
      ],
      "execution_count": 1,
      "outputs": [
        {
          "output_type": "stream",
          "text": [
            "Go to this URL in a browser: https://accounts.google.com/o/oauth2/auth?client_id=947318989803-6bn6qk8qdgf4n4g3pfee6491hc0brc4i.apps.googleusercontent.com&redirect_uri=urn%3aietf%3awg%3aoauth%3a2.0%3aoob&response_type=code&scope=email%20https%3a%2f%2fwww.googleapis.com%2fauth%2fdocs.test%20https%3a%2f%2fwww.googleapis.com%2fauth%2fdrive%20https%3a%2f%2fwww.googleapis.com%2fauth%2fdrive.photos.readonly%20https%3a%2f%2fwww.googleapis.com%2fauth%2fpeopleapi.readonly\n",
            "\n",
            "Enter your authorization code:\n",
            "··········\n",
            "Mounted at /content/drive/\n"
          ],
          "name": "stdout"
        }
      ]
    },
    {
      "cell_type": "code",
      "metadata": {
        "id": "7S9f2qnPUu3u",
        "colab_type": "code",
        "colab": {}
      },
      "source": [
        "import pandas as pd\n",
        "import numpy as np\n",
        "ECG_DATA=np.load('/content/drive/My Drive/세종병원/Data/윤지_ECG_array.npy')\n"
      ],
      "execution_count": 0,
      "outputs": []
    },
    {
      "cell_type": "code",
      "metadata": {
        "id": "MozBZax7CfXS",
        "colab_type": "code",
        "outputId": "41780582-dd2e-47a2-894b-856cbf14e0d3",
        "colab": {
          "base_uri": "https://localhost:8080/",
          "height": 35
        }
      },
      "source": [
        "ECG_DATA.shape"
      ],
      "execution_count": 0,
      "outputs": [
        {
          "output_type": "execute_result",
          "data": {
            "text/plain": [
              "(5000, 12, 5000)"
            ]
          },
          "metadata": {
            "tags": []
          },
          "execution_count": 8
        }
      ]
    },
    {
      "cell_type": "code",
      "metadata": {
        "id": "8rquL9iYDySE",
        "colab_type": "code",
        "outputId": "61964ea7-d1ad-4e68-fcfe-feb7988e4994",
        "colab": {
          "base_uri": "https://localhost:8080/",
          "height": 899
        }
      },
      "source": [
        "ECG_DATA"
      ],
      "execution_count": 0,
      "outputs": [
        {
          "output_type": "execute_result",
          "data": {
            "text/plain": [
              "array([[[-253.76, -253.76, -253.76, ...,  -34.16,   24.4 ,    4.88],\n",
              "        [ 263.52,  263.52,  263.52, ...,  -68.32,  -48.8 ,  -34.16],\n",
              "        [ 517.28,  517.28,  517.28, ...,  -34.16,  -73.2 ,  -39.04],\n",
              "        ...,\n",
              "        [ 810.08,  810.08,  810.08, ..., -204.96, -200.08, -170.8 ],\n",
              "        [ 810.08,  810.08,  810.08, ..., -200.08, -195.2 , -165.92],\n",
              "        [ 527.04,  527.04,  527.04, ...,  102.48,   92.72,  112.24]],\n",
              "\n",
              "       [[  -9.76,  -24.4 ,  -19.52, ...,   14.64,    9.76,    9.76],\n",
              "        [   9.76,  -19.52,  -19.52, ...,    9.76,    9.76,    9.76],\n",
              "        [  19.52,    4.88,    0.  , ...,   -4.88,    0.  ,    0.  ],\n",
              "        ...,\n",
              "        [  53.68,   34.16,   34.16, ...,  -14.64,  -19.52,  -24.4 ],\n",
              "        [  48.8 ,   34.16,   34.16, ...,  -19.52,  -24.4 ,  -29.28],\n",
              "        [   0.  ,  -14.64,   -9.76, ...,    4.88,    0.  ,   -4.88]],\n",
              "\n",
              "       [[ -29.28,  -19.52,   -9.76, ...,   73.2 ,   78.08,   73.2 ],\n",
              "        [ -63.44,  -53.68,  -43.92, ...,  -68.32,  -68.32,  -73.2 ],\n",
              "        [ -34.16,  -34.16,  -34.16, ..., -141.52, -146.4 , -146.4 ],\n",
              "        ...,\n",
              "        [ 317.2 ,  326.96,  341.6 , ...,  136.64,  136.64,  136.64],\n",
              "        [  63.44,   58.56,   73.2 , ...,  224.48,  219.6 ,  214.72],\n",
              "        [ -14.64,   -9.76,    0.  , ...,  287.92,  283.04,  253.76]],\n",
              "\n",
              "       ...,\n",
              "\n",
              "       [[  34.16,   29.28,   14.64, ...,  -14.64,   -9.76,   -4.88],\n",
              "        [  39.04,   43.92,   24.4 , ...,   14.64,   19.52,    9.76],\n",
              "        [   4.88,   14.64,    9.76, ...,   29.28,   29.28,   14.64],\n",
              "        ...,\n",
              "        [ -53.68,  -58.56,  -53.68, ...,    4.88,    9.76,   -4.88],\n",
              "        [ -43.92,  -43.92,  -48.8 , ...,   19.52,   19.52,    4.88],\n",
              "        [  19.52,   14.64,    9.76, ...,  -43.92,  -48.8 ,  -63.44]],\n",
              "\n",
              "       [[   9.76,    9.76,    9.76, ...,   97.6 ,   97.6 ,   92.72],\n",
              "        [ -39.04,  -39.04,  -39.04, ...,  -63.44,  -58.56,  -73.2 ],\n",
              "        [ -48.8 ,  -48.8 ,  -48.8 , ..., -161.04, -156.16, -165.92],\n",
              "        ...,\n",
              "        [ -78.08,  -78.08,  -78.08, ...,  204.96,  204.96,  200.08],\n",
              "        [  68.32,   68.32,   68.32, ...,  -97.6 ,  -97.6 , -107.36],\n",
              "        [   0.  ,    0.  ,    0.  , ...,   34.16,   39.04,   29.28]],\n",
              "\n",
              "       [[   0.  ,    0.  ,    0.  , ...,    9.76,    9.76,    9.76],\n",
              "        [   9.76,    9.76,    9.76, ...,   39.04,   39.04,   48.8 ],\n",
              "        [   9.76,    9.76,    9.76, ...,   29.28,   29.28,   39.04],\n",
              "        ...,\n",
              "        [  39.04,   39.04,   39.04, ...,  122.  ,  117.12,  117.12],\n",
              "        [   0.  ,    0.  ,    0.  , ...,   97.6 ,   97.6 ,   97.6 ],\n",
              "        [  78.08,   78.08,   78.08, ...,  -87.84,  -87.84,  -97.6 ]]])"
            ]
          },
          "metadata": {
            "tags": []
          },
          "execution_count": 9
        }
      ]
    },
    {
      "cell_type": "code",
      "metadata": {
        "id": "OJT0PBvwrwnu",
        "colab_type": "code",
        "outputId": "d3f534f1-40bc-4cda-f319-bf72d090434e",
        "colab": {
          "base_uri": "https://localhost:8080/",
          "height": 125
        }
      },
      "source": [
        "df=pd.read_excel('/content/drive/My Drive/세종병원/Data/Diagnostics.xlsx')\n",
        "label_df=df[['PatientAge','Gender']]\n",
        "label_df.loc[label_df.Gender=='MALE','Gender']=1\n",
        "label_df.loc[label_df.Gender=='FEMALE','Gender']=0"
      ],
      "execution_count": 0,
      "outputs": [
        {
          "output_type": "stream",
          "text": [
            "/usr/local/lib/python3.6/dist-packages/pandas/core/indexing.py:966: SettingWithCopyWarning: \n",
            "A value is trying to be set on a copy of a slice from a DataFrame.\n",
            "Try using .loc[row_indexer,col_indexer] = value instead\n",
            "\n",
            "See the caveats in the documentation: https://pandas.pydata.org/pandas-docs/stable/user_guide/indexing.html#returning-a-view-versus-a-copy\n",
            "  self.obj[item] = s\n"
          ],
          "name": "stderr"
        }
      ]
    },
    {
      "cell_type": "code",
      "metadata": {
        "id": "niFINBp5QHQL",
        "colab_type": "code",
        "outputId": "f74ba6c7-97dd-4533-db45-36ff58b0dbad",
        "colab": {
          "base_uri": "https://localhost:8080/",
          "height": 417
        }
      },
      "source": [
        "label_df"
      ],
      "execution_count": 0,
      "outputs": [
        {
          "output_type": "execute_result",
          "data": {
            "text/html": [
              "<div>\n",
              "<style scoped>\n",
              "    .dataframe tbody tr th:only-of-type {\n",
              "        vertical-align: middle;\n",
              "    }\n",
              "\n",
              "    .dataframe tbody tr th {\n",
              "        vertical-align: top;\n",
              "    }\n",
              "\n",
              "    .dataframe thead th {\n",
              "        text-align: right;\n",
              "    }\n",
              "</style>\n",
              "<table border=\"1\" class=\"dataframe\">\n",
              "  <thead>\n",
              "    <tr style=\"text-align: right;\">\n",
              "      <th></th>\n",
              "      <th>PatientAge</th>\n",
              "      <th>Gender</th>\n",
              "    </tr>\n",
              "  </thead>\n",
              "  <tbody>\n",
              "    <tr>\n",
              "      <th>0</th>\n",
              "      <td>85</td>\n",
              "      <td>1</td>\n",
              "    </tr>\n",
              "    <tr>\n",
              "      <th>1</th>\n",
              "      <td>59</td>\n",
              "      <td>0</td>\n",
              "    </tr>\n",
              "    <tr>\n",
              "      <th>2</th>\n",
              "      <td>20</td>\n",
              "      <td>0</td>\n",
              "    </tr>\n",
              "    <tr>\n",
              "      <th>3</th>\n",
              "      <td>66</td>\n",
              "      <td>1</td>\n",
              "    </tr>\n",
              "    <tr>\n",
              "      <th>4</th>\n",
              "      <td>73</td>\n",
              "      <td>0</td>\n",
              "    </tr>\n",
              "    <tr>\n",
              "      <th>...</th>\n",
              "      <td>...</td>\n",
              "      <td>...</td>\n",
              "    </tr>\n",
              "    <tr>\n",
              "      <th>10641</th>\n",
              "      <td>80</td>\n",
              "      <td>0</td>\n",
              "    </tr>\n",
              "    <tr>\n",
              "      <th>10642</th>\n",
              "      <td>81</td>\n",
              "      <td>0</td>\n",
              "    </tr>\n",
              "    <tr>\n",
              "      <th>10643</th>\n",
              "      <td>39</td>\n",
              "      <td>1</td>\n",
              "    </tr>\n",
              "    <tr>\n",
              "      <th>10644</th>\n",
              "      <td>76</td>\n",
              "      <td>1</td>\n",
              "    </tr>\n",
              "    <tr>\n",
              "      <th>10645</th>\n",
              "      <td>75</td>\n",
              "      <td>1</td>\n",
              "    </tr>\n",
              "  </tbody>\n",
              "</table>\n",
              "<p>10646 rows × 2 columns</p>\n",
              "</div>"
            ],
            "text/plain": [
              "       PatientAge Gender\n",
              "0              85      1\n",
              "1              59      0\n",
              "2              20      0\n",
              "3              66      1\n",
              "4              73      0\n",
              "...           ...    ...\n",
              "10641          80      0\n",
              "10642          81      0\n",
              "10643          39      1\n",
              "10644          76      1\n",
              "10645          75      1\n",
              "\n",
              "[10646 rows x 2 columns]"
            ]
          },
          "metadata": {
            "tags": []
          },
          "execution_count": 11
        }
      ]
    },
    {
      "cell_type": "code",
      "metadata": {
        "id": "U2oO1WwSvcUM",
        "colab_type": "code",
        "colab": {}
      },
      "source": [
        "Age=label_df.PatientAge[:ECG_DATA.shape[0]]\n",
        "Sex=label_df.Gender[:ECG_DATA.shape[0]]"
      ],
      "execution_count": 0,
      "outputs": []
    },
    {
      "cell_type": "code",
      "metadata": {
        "id": "AwGRG_mAQMdJ",
        "colab_type": "code",
        "outputId": "6d3946e3-6b7a-48a9-c520-fd5ad1fa3ee2",
        "colab": {
          "base_uri": "https://localhost:8080/",
          "height": 35
        }
      },
      "source": [
        "Age.shape"
      ],
      "execution_count": 0,
      "outputs": [
        {
          "output_type": "execute_result",
          "data": {
            "text/plain": [
              "(5000,)"
            ]
          },
          "metadata": {
            "tags": []
          },
          "execution_count": 13
        }
      ]
    },
    {
      "cell_type": "code",
      "metadata": {
        "id": "7VIbCUx1sDNb",
        "colab_type": "code",
        "colab": {}
      },
      "source": [
        "from sklearn.model_selection import train_test_split \n",
        "X_train,X_test,y_train,y_test=train_test_split(ECG_DATA,Sex,test_size=0.36,random_state=42)\n",
        "# 1750개의 데이터를 64:36 으로 train 데이터와 test데이터로 나눠줌."
      ],
      "execution_count": 0,
      "outputs": []
    },
    {
      "cell_type": "code",
      "metadata": {
        "id": "oBnZLY7oscKV",
        "colab_type": "code",
        "colab": {}
      },
      "source": [
        "from sklearn.model_selection import train_test_split \n",
        "X_train,X_val,y_train,y_val=train_test_split(X_train,y_train,test_size=0.25,random_state=42)\n",
        "# train 데이터를 75:25로 train 데이터와 validation 데이터로 나눠줌."
      ],
      "execution_count": 0,
      "outputs": []
    },
    {
      "cell_type": "code",
      "metadata": {
        "id": "B2ejnTrkst-V",
        "colab_type": "code",
        "outputId": "814eee4f-5405-49c4-f226-251e1b2fc876",
        "colab": {
          "base_uri": "https://localhost:8080/",
          "height": 71
        }
      },
      "source": [
        "print(X_train.shape)\n",
        "print(X_val.shape)\n",
        "print(X_test.shape)"
      ],
      "execution_count": 0,
      "outputs": [
        {
          "output_type": "stream",
          "text": [
            "(2400, 12, 5000)\n",
            "(800, 12, 5000)\n",
            "(1800, 12, 5000)\n"
          ],
          "name": "stdout"
        }
      ]
    },
    {
      "cell_type": "code",
      "metadata": {
        "id": "yty_mFFLuKeS",
        "colab_type": "code",
        "colab": {}
      },
      "source": [
        "# X데이터를 2차원에서 3차원으로 변환(train,val,test 각각에 대해)\n",
        "X_train_3=X_train.reshape(X_train.shape[0],12,5000,1)\n",
        "X_val_3=X_val.reshape(X_val.shape[0],12,5000,1)\n",
        "X_test_3=X_test.reshape(X_test.shape[0],12,5000,1)"
      ],
      "execution_count": 0,
      "outputs": []
    },
    {
      "cell_type": "code",
      "metadata": {
        "id": "s6jp1dZMulOI",
        "colab_type": "code",
        "outputId": "b90a7d55-32cc-4c7f-948f-4bee97edcacd",
        "colab": {
          "base_uri": "https://localhost:8080/",
          "height": 53
        }
      },
      "source": [
        "# label 값인 y를 one hot encoding\n",
        "from keras.utils import to_categorical\n",
        "\n",
        "y_train_onehot=to_categorical(y_train,2)\n",
        "y_val_onehot=to_categorical(y_val,2)\n",
        "y_test_onehot=to_categorical(y_test,2)\n",
        "\n",
        "print(y_train_onehot[0])"
      ],
      "execution_count": 0,
      "outputs": [
        {
          "output_type": "stream",
          "text": [
            "Using TensorFlow backend.\n"
          ],
          "name": "stderr"
        },
        {
          "output_type": "stream",
          "text": [
            "[1. 0.]\n"
          ],
          "name": "stdout"
        }
      ]
    },
    {
      "cell_type": "code",
      "metadata": {
        "id": "M8dLZOJDvQ-6",
        "colab_type": "code",
        "colab": {}
      },
      "source": [
        "from keras.models import Sequential\n",
        "from keras.layers import Conv2D,MaxPooling2D,ZeroPadding2D,Activation,BatchNormalization\n",
        "\n",
        "# Temporal Analysis\n",
        "\n",
        "model=Sequential()\n",
        "\n",
        "model.add(ZeroPadding2D(padding=(0,2560),\n",
        "                       input_shape=(12,5000,1)))\n",
        "\n",
        "model.add(Conv2D(filters=16,\n",
        "                kernel_size=(1,7)))\n",
        "model.add(BatchNormalization())\n",
        "model.add(Activation('relu'))\n",
        "model.add(MaxPooling2D((1,2)))\n",
        "\n",
        "model.add(Conv2D(filters=16,\n",
        "                kernel_size=(1,5)))\n",
        "model.add(BatchNormalization())\n",
        "model.add(Activation('relu'))\n",
        "model.add(MaxPooling2D((1,4)))\n",
        "\n",
        "model.add(Conv2D(filters=32,\n",
        "                kernel_size=(1,5)))\n",
        "model.add(BatchNormalization())\n",
        "model.add(Activation('relu'))\n",
        "model.add(MaxPooling2D((1,2)))\n",
        "\n",
        "model.add(Conv2D(filters=32,\n",
        "                kernel_size=(1,5)))\n",
        "model.add(BatchNormalization())\n",
        "model.add(Activation('relu'))\n",
        "model.add(MaxPooling2D((1,4)))\n",
        "\n",
        "model.add(Conv2D(filters=64,\n",
        "                kernel_size=(1,5)))\n",
        "model.add(BatchNormalization())\n",
        "model.add(Activation('relu'))\n",
        "model.add(MaxPooling2D((1,2)))\n",
        "\n",
        "model.add(Conv2D(filters=64,\n",
        "                kernel_size=(1,3)))\n",
        "model.add(BatchNormalization())\n",
        "model.add(Activation('relu'))\n",
        "model.add(MaxPooling2D((1,2)))\n",
        "\n",
        "model.add(Conv2D(filters=64,\n",
        "                kernel_size=(1,3)))\n",
        "model.add(BatchNormalization())\n",
        "model.add(Activation('relu'))\n",
        "model.add(MaxPooling2D((1,2)))\n",
        "\n",
        "model.add(Conv2D(filters=64,\n",
        "                kernel_size=(1,3)))\n",
        "model.add(BatchNormalization())\n",
        "model.add(Activation('relu'))"
      ],
      "execution_count": 0,
      "outputs": []
    },
    {
      "cell_type": "code",
      "metadata": {
        "id": "jpJsFWT1Ejk9",
        "colab_type": "code",
        "colab": {}
      },
      "source": [
        "# Spatial Analysis\n",
        "\n",
        "model.add(Conv2D(filters=128,\n",
        "                kernel_size=(12,1)))\n",
        "model.add(BatchNormalization())\n",
        "model.add(Activation('relu'))\n",
        "model.add(MaxPooling2D((1,2)))\n"
      ],
      "execution_count": 0,
      "outputs": []
    },
    {
      "cell_type": "code",
      "metadata": {
        "id": "R5kX-ivPElCy",
        "colab_type": "code",
        "colab": {}
      },
      "source": [
        "# Fully Connected\n",
        "\n",
        "from keras.layers import Dense,BatchNormalization, Dropout,Flatten\n",
        "\n",
        "model.add(Flatten())\n",
        "\n",
        "\n",
        "model.add(Dense(128,input_dim=(1,5080)))\n",
        "model.add(BatchNormalization())\n",
        "model.add(Activation('relu'))\n",
        "model.add(Dropout(0.2)) # 조절\n",
        "\n",
        "model.add(Dense(64,input_dim=(1,5080)))\n",
        "model.add(BatchNormalization())\n",
        "model.add(Activation('relu'))\n",
        "model.add(Dropout(0.2)) # 조절\n",
        "\n",
        "#model.add(Activation('softmax'))\n",
        "model.add(Dense(2,activation='softmax'))"
      ],
      "execution_count": 0,
      "outputs": []
    },
    {
      "cell_type": "code",
      "metadata": {
        "id": "DEI4ryc2Ek75",
        "colab_type": "code",
        "outputId": "0d55eec5-25b7-444a-f7ce-37041408991d",
        "colab": {
          "base_uri": "https://localhost:8080/",
          "height": 1000
        }
      },
      "source": [
        "model.summary()"
      ],
      "execution_count": 0,
      "outputs": [
        {
          "output_type": "stream",
          "text": [
            "Model: \"sequential_2\"\n",
            "_________________________________________________________________\n",
            "Layer (type)                 Output Shape              Param #   \n",
            "=================================================================\n",
            "zero_padding2d_2 (ZeroPaddin (None, 12, 10120, 1)      0         \n",
            "_________________________________________________________________\n",
            "conv2d_10 (Conv2D)           (None, 12, 10114, 16)     128       \n",
            "_________________________________________________________________\n",
            "batch_normalization_12 (Batc (None, 12, 10114, 16)     64        \n",
            "_________________________________________________________________\n",
            "activation_12 (Activation)   (None, 12, 10114, 16)     0         \n",
            "_________________________________________________________________\n",
            "max_pooling2d_9 (MaxPooling2 (None, 12, 5057, 16)      0         \n",
            "_________________________________________________________________\n",
            "conv2d_11 (Conv2D)           (None, 12, 5053, 16)      1296      \n",
            "_________________________________________________________________\n",
            "batch_normalization_13 (Batc (None, 12, 5053, 16)      64        \n",
            "_________________________________________________________________\n",
            "activation_13 (Activation)   (None, 12, 5053, 16)      0         \n",
            "_________________________________________________________________\n",
            "max_pooling2d_10 (MaxPooling (None, 12, 1263, 16)      0         \n",
            "_________________________________________________________________\n",
            "conv2d_12 (Conv2D)           (None, 12, 1259, 32)      2592      \n",
            "_________________________________________________________________\n",
            "batch_normalization_14 (Batc (None, 12, 1259, 32)      128       \n",
            "_________________________________________________________________\n",
            "activation_14 (Activation)   (None, 12, 1259, 32)      0         \n",
            "_________________________________________________________________\n",
            "max_pooling2d_11 (MaxPooling (None, 12, 629, 32)       0         \n",
            "_________________________________________________________________\n",
            "conv2d_13 (Conv2D)           (None, 12, 625, 32)       5152      \n",
            "_________________________________________________________________\n",
            "batch_normalization_15 (Batc (None, 12, 625, 32)       128       \n",
            "_________________________________________________________________\n",
            "activation_15 (Activation)   (None, 12, 625, 32)       0         \n",
            "_________________________________________________________________\n",
            "max_pooling2d_12 (MaxPooling (None, 12, 156, 32)       0         \n",
            "_________________________________________________________________\n",
            "conv2d_14 (Conv2D)           (None, 12, 152, 64)       10304     \n",
            "_________________________________________________________________\n",
            "batch_normalization_16 (Batc (None, 12, 152, 64)       256       \n",
            "_________________________________________________________________\n",
            "activation_16 (Activation)   (None, 12, 152, 64)       0         \n",
            "_________________________________________________________________\n",
            "max_pooling2d_13 (MaxPooling (None, 12, 76, 64)        0         \n",
            "_________________________________________________________________\n",
            "conv2d_15 (Conv2D)           (None, 12, 74, 64)        12352     \n",
            "_________________________________________________________________\n",
            "batch_normalization_17 (Batc (None, 12, 74, 64)        256       \n",
            "_________________________________________________________________\n",
            "activation_17 (Activation)   (None, 12, 74, 64)        0         \n",
            "_________________________________________________________________\n",
            "max_pooling2d_14 (MaxPooling (None, 12, 37, 64)        0         \n",
            "_________________________________________________________________\n",
            "conv2d_16 (Conv2D)           (None, 12, 35, 64)        12352     \n",
            "_________________________________________________________________\n",
            "batch_normalization_18 (Batc (None, 12, 35, 64)        256       \n",
            "_________________________________________________________________\n",
            "activation_18 (Activation)   (None, 12, 35, 64)        0         \n",
            "_________________________________________________________________\n",
            "max_pooling2d_15 (MaxPooling (None, 12, 17, 64)        0         \n",
            "_________________________________________________________________\n",
            "conv2d_17 (Conv2D)           (None, 12, 15, 64)        12352     \n",
            "_________________________________________________________________\n",
            "batch_normalization_19 (Batc (None, 12, 15, 64)        256       \n",
            "_________________________________________________________________\n",
            "activation_19 (Activation)   (None, 12, 15, 64)        0         \n",
            "_________________________________________________________________\n",
            "conv2d_18 (Conv2D)           (None, 1, 15, 128)        98432     \n",
            "_________________________________________________________________\n",
            "batch_normalization_20 (Batc (None, 1, 15, 128)        512       \n",
            "_________________________________________________________________\n",
            "activation_20 (Activation)   (None, 1, 15, 128)        0         \n",
            "_________________________________________________________________\n",
            "max_pooling2d_16 (MaxPooling (None, 1, 7, 128)         0         \n",
            "_________________________________________________________________\n",
            "flatten_2 (Flatten)          (None, 896)               0         \n",
            "_________________________________________________________________\n",
            "dense_4 (Dense)              (None, 128)               114816    \n",
            "_________________________________________________________________\n",
            "batch_normalization_21 (Batc (None, 128)               512       \n",
            "_________________________________________________________________\n",
            "activation_21 (Activation)   (None, 128)               0         \n",
            "_________________________________________________________________\n",
            "dropout_3 (Dropout)          (None, 128)               0         \n",
            "_________________________________________________________________\n",
            "dense_5 (Dense)              (None, 64)                8256      \n",
            "_________________________________________________________________\n",
            "batch_normalization_22 (Batc (None, 64)                256       \n",
            "_________________________________________________________________\n",
            "activation_22 (Activation)   (None, 64)                0         \n",
            "_________________________________________________________________\n",
            "dropout_4 (Dropout)          (None, 64)                0         \n",
            "_________________________________________________________________\n",
            "dense_6 (Dense)              (None, 2)                 130       \n",
            "=================================================================\n",
            "Total params: 280,850\n",
            "Trainable params: 279,506\n",
            "Non-trainable params: 1,344\n",
            "_________________________________________________________________\n"
          ],
          "name": "stdout"
        }
      ]
    },
    {
      "cell_type": "code",
      "metadata": {
        "id": "ocT2F7-YEkxq",
        "colab_type": "code",
        "colab": {}
      },
      "source": [
        "model.compile(loss='categorical_crossentropy',optimizer='adam',metrics=['accuracy'])"
      ],
      "execution_count": 0,
      "outputs": []
    },
    {
      "cell_type": "code",
      "metadata": {
        "id": "HYRzdFo9EoYS",
        "colab_type": "code",
        "outputId": "eda5f245-5213-4102-dcec-7d14e27627a9",
        "colab": {
          "base_uri": "https://localhost:8080/",
          "height": 935
        }
      },
      "source": [
        "from keras.callbacks import EarlyStopping, ModelCheckpoint\n",
        "\n",
        "early_stop = EarlyStopping(patience=20)\n",
        "\n",
        "batch_size = 64\n",
        "epochs = 100\n",
        "\n",
        "history = model.fit(X_train_3,y_train_onehot,\n",
        "                   validation_data=(X_val_3,y_val_onehot),\n",
        "                    batch_size=batch_size,\n",
        "                    nb_epoch=epochs, verbose=1,\n",
        "                    callbacks=[early_stop]\n",
        "                   )"
      ],
      "execution_count": 0,
      "outputs": [
        {
          "output_type": "stream",
          "text": [
            "/usr/local/lib/python3.6/dist-packages/ipykernel_launcher.py:13: UserWarning: The `nb_epoch` argument in `fit` has been renamed `epochs`.\n",
            "  del sys.path[0]\n"
          ],
          "name": "stderr"
        },
        {
          "output_type": "stream",
          "text": [
            "Train on 2400 samples, validate on 800 samples\n",
            "Epoch 1/100\n",
            "2400/2400 [==============================] - 14s 6ms/step - loss: 0.6600 - accuracy: 0.6483 - val_loss: 0.6476 - val_accuracy: 0.6175\n",
            "Epoch 2/100\n",
            "2400/2400 [==============================] - 12s 5ms/step - loss: 0.5022 - accuracy: 0.7579 - val_loss: 0.6801 - val_accuracy: 0.6263\n",
            "Epoch 3/100\n",
            "2400/2400 [==============================] - 12s 5ms/step - loss: 0.4522 - accuracy: 0.7933 - val_loss: 0.7502 - val_accuracy: 0.6375\n",
            "Epoch 4/100\n",
            "2400/2400 [==============================] - 12s 5ms/step - loss: 0.3980 - accuracy: 0.8121 - val_loss: 0.5225 - val_accuracy: 0.7337\n",
            "Epoch 5/100\n",
            "2400/2400 [==============================] - 12s 5ms/step - loss: 0.3343 - accuracy: 0.8479 - val_loss: 0.5431 - val_accuracy: 0.7138\n",
            "Epoch 6/100\n",
            "2400/2400 [==============================] - 12s 5ms/step - loss: 0.3180 - accuracy: 0.8704 - val_loss: 0.5530 - val_accuracy: 0.7400\n",
            "Epoch 7/100\n",
            "2400/2400 [==============================] - 12s 5ms/step - loss: 0.2500 - accuracy: 0.8950 - val_loss: 0.5793 - val_accuracy: 0.7513\n",
            "Epoch 8/100\n",
            "2400/2400 [==============================] - 12s 5ms/step - loss: 0.1828 - accuracy: 0.9262 - val_loss: 0.6604 - val_accuracy: 0.7225\n",
            "Epoch 9/100\n",
            "2400/2400 [==============================] - 12s 5ms/step - loss: 0.1379 - accuracy: 0.9525 - val_loss: 0.7497 - val_accuracy: 0.7275\n",
            "Epoch 10/100\n",
            "2400/2400 [==============================] - 12s 5ms/step - loss: 0.1119 - accuracy: 0.9600 - val_loss: 0.8275 - val_accuracy: 0.7262\n",
            "Epoch 11/100\n",
            "2400/2400 [==============================] - 12s 5ms/step - loss: 0.0975 - accuracy: 0.9654 - val_loss: 0.7024 - val_accuracy: 0.7513\n",
            "Epoch 12/100\n",
            "2400/2400 [==============================] - 12s 5ms/step - loss: 0.1194 - accuracy: 0.9563 - val_loss: 1.4550 - val_accuracy: 0.5713\n",
            "Epoch 13/100\n",
            "2400/2400 [==============================] - 12s 5ms/step - loss: 0.1611 - accuracy: 0.9367 - val_loss: 1.3649 - val_accuracy: 0.5700\n",
            "Epoch 14/100\n",
            "2400/2400 [==============================] - 12s 5ms/step - loss: 0.1229 - accuracy: 0.9575 - val_loss: 0.9556 - val_accuracy: 0.7350\n",
            "Epoch 15/100\n",
            "2400/2400 [==============================] - 12s 5ms/step - loss: 0.0875 - accuracy: 0.9746 - val_loss: 1.3183 - val_accuracy: 0.6712\n",
            "Epoch 16/100\n",
            "2400/2400 [==============================] - 12s 5ms/step - loss: 0.0448 - accuracy: 0.9862 - val_loss: 0.8074 - val_accuracy: 0.7200\n",
            "Epoch 17/100\n",
            "2400/2400 [==============================] - 12s 5ms/step - loss: 0.0317 - accuracy: 0.9921 - val_loss: 0.8282 - val_accuracy: 0.7337\n",
            "Epoch 18/100\n",
            "2400/2400 [==============================] - 12s 5ms/step - loss: 0.0224 - accuracy: 0.9946 - val_loss: 0.8133 - val_accuracy: 0.7563\n",
            "Epoch 19/100\n",
            "2400/2400 [==============================] - 12s 5ms/step - loss: 0.0149 - accuracy: 0.9983 - val_loss: 0.9855 - val_accuracy: 0.7350\n",
            "Epoch 20/100\n",
            "2400/2400 [==============================] - 12s 5ms/step - loss: 0.0131 - accuracy: 0.9979 - val_loss: 1.1096 - val_accuracy: 0.7362\n",
            "Epoch 21/100\n",
            "2400/2400 [==============================] - 12s 5ms/step - loss: 0.0157 - accuracy: 0.9962 - val_loss: 0.9626 - val_accuracy: 0.7538\n",
            "Epoch 22/100\n",
            "2400/2400 [==============================] - 12s 5ms/step - loss: 0.0151 - accuracy: 0.9958 - val_loss: 1.0388 - val_accuracy: 0.7312\n",
            "Epoch 23/100\n",
            "2400/2400 [==============================] - 12s 5ms/step - loss: 0.0192 - accuracy: 0.9954 - val_loss: 0.8945 - val_accuracy: 0.7588\n",
            "Epoch 24/100\n",
            "2400/2400 [==============================] - 12s 5ms/step - loss: 0.0238 - accuracy: 0.9925 - val_loss: 1.0259 - val_accuracy: 0.7625\n"
          ],
          "name": "stdout"
        }
      ]
    },
    {
      "cell_type": "code",
      "metadata": {
        "id": "YDlamEfnEoVO",
        "colab_type": "code",
        "outputId": "9dedc922-d55d-496d-f329-35369dfb17d0",
        "colab": {
          "base_uri": "https://localhost:8080/",
          "height": 89
        }
      },
      "source": [
        "train_accuracy = model.evaluate(X_train_3, y_train_onehot)\n",
        "test_accuracy = model.evaluate(X_test_3, y_test_onehot)\n",
        "\n",
        "print(\"Train Acc: \", train_accuracy)\n",
        "print(\"Test Acc: \", test_accuracy)"
      ],
      "execution_count": 0,
      "outputs": [
        {
          "output_type": "stream",
          "text": [
            "2400/2400 [==============================] - 4s 2ms/step\n",
            "1800/1800 [==============================] - 3s 2ms/step\n",
            "Train Acc:  [0.04179008747140567, 0.9837499856948853]\n",
            "Test Acc:  [1.0208525813950433, 0.7661111354827881]\n"
          ],
          "name": "stdout"
        }
      ]
    },
    {
      "cell_type": "code",
      "metadata": {
        "id": "vkxiIuisEoS4",
        "colab_type": "code",
        "outputId": "ecbbeaab-b64a-4994-edd4-07f8b61bd4e5",
        "colab": {
          "base_uri": "https://localhost:8080/",
          "height": 573
        }
      },
      "source": [
        "import matplotlib.pyplot as plt\n",
        "\n",
        "plt.plot(history.history['accuracy'], 'r')\n",
        "plt.plot(history.history['val_accuracy'], 'g')\n",
        "\n",
        "plt.title('Accuracy')\n",
        "plt.xlabel('epoch')\n",
        "plt.ylabel('accuracy')\n",
        "plt.legend(['train', 'val'], loc='upper left')\n",
        "plt.show()\n",
        "\n",
        "plt.plot(history.history['loss'], 'g')\n",
        "plt.plot(history.history['val_loss'], 'r')\n",
        "\n",
        "plt.title('Loss')\n",
        "plt.xlabel('epoch')\n",
        "plt.ylabel('loss')\n",
        "plt.legend(['train', 'val'], loc='upper left')\n",
        "plt.show()"
      ],
      "execution_count": 0,
      "outputs": [
        {
          "output_type": "display_data",
          "data": {
            "image/png": "[encoded data removed]",
            "text/plain": [
              "<Figure size 432x288 with 1 Axes>"
            ]
          },
          "metadata": {
            "tags": [],
            "needs_background": "light"
          }
        },
        {
          "output_type": "display_data",
          "data": {
            "image/png": "[encoded data removed]",
            "text/plain": [
              "<Figure size 432x288 with 1 Axes>"
            ]
          },
          "metadata": {
            "tags": [],
            "needs_background": "light"
          }
        }
      ]
    },
    {
      "cell_type": "code",
      "metadata": {
        "id": "upd2mxnlEoO8",
        "colab_type": "code",
        "colab": {}
      },
      "source": [
        ""
      ],
      "execution_count": 0,
      "outputs": []
    },
    {
      "cell_type": "code",
      "metadata": {
        "id": "ocVBxI6XEoND",
        "colab_type": "code",
        "colab": {}
      },
      "source": [
        ""
      ],
      "execution_count": 0,
      "outputs": []
    },
    {
      "cell_type": "code",
      "metadata": {
        "id": "LbuKgnDEEoKZ",
        "colab_type": "code",
        "colab": {}
      },
      "source": [
        ""
      ],
      "execution_count": 0,
      "outputs": []
    }
  ]
}