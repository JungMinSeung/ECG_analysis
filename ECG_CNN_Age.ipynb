{
  "nbformat": 4,
  "nbformat_minor": 0,
  "metadata": {
    "colab": {
      "name": "ECG_CNN_Age.ipynb",
      "provenance": [],
      "collapsed_sections": [],
      "authorship_tag": "ABX9TyP5VD6jqYFTWVCK2iYgQY4N",
      "include_colab_link": true
    },
    "kernelspec": {
      "name": "python3",
      "display_name": "Python 3"
    },
    "accelerator": "GPU"
  },
  "cells": [
    {
      "cell_type": "markdown",
      "metadata": {
        "id": "view-in-github",
        "colab_type": "text"
      },
      "source": [
        "<a href=\"https://colab.research.google.com/github/JungMinSeung/ECG_analysis/blob/master/ECG_CNN_Age.ipynb\" target=\"_parent\"><img src=\"https://colab.research.google.com/assets/colab-badge.svg\" alt=\"Open In Colab\"/></a>"
      ]
    },
    {
      "cell_type": "code",
      "metadata": {
        "id": "64f2M4lXTvf7",
        "colab_type": "code",
        "colab": {
          "base_uri": "https://localhost:8080/",
          "height": 127
        },
        "outputId": "658e0c35-7d77-47de-cd97-34467b0d597d"
      },
      "source": [
        "from google.colab import drive\n",
        "drive.mount('/content/drive/')"
      ],
      "execution_count": 1,
      "outputs": [
        {
          "output_type": "stream",
          "text": [
            "Go to this URL in a browser: https://accounts.google.com/o/oauth2/auth?client_id=947318989803-6bn6qk8qdgf4n4g3pfee6491hc0brc4i.apps.googleusercontent.com&redirect_uri=urn%3aietf%3awg%3aoauth%3a2.0%3aoob&response_type=code&scope=email%20https%3a%2f%2fwww.googleapis.com%2fauth%2fdocs.test%20https%3a%2f%2fwww.googleapis.com%2fauth%2fdrive%20https%3a%2f%2fwww.googleapis.com%2fauth%2fdrive.photos.readonly%20https%3a%2f%2fwww.googleapis.com%2fauth%2fpeopleapi.readonly\n",
            "\n",
            "Enter your authorization code:\n",
            "··········\n",
            "Mounted at /content/drive/\n"
          ],
          "name": "stdout"
        }
      ]
    },
    {
      "cell_type": "code",
      "metadata": {
        "id": "7S9f2qnPUu3u",
        "colab_type": "code",
        "colab": {}
      },
      "source": [
        "import pandas as pd\n",
        "import numpy as np\n",
        "ECG_DATA=np.load('/content/drive/My Drive/sejong/ECG_DATA.npy')\n"
      ],
      "execution_count": 0,
      "outputs": []
    },
    {
      "cell_type": "code",
      "metadata": {
        "id": "MozBZax7CfXS",
        "colab_type": "code",
        "outputId": "0a856361-70d7-42c5-963c-0ca97b5435d8",
        "colab": {
          "base_uri": "https://localhost:8080/",
          "height": 35
        }
      },
      "source": [
        "ECG_DATA.shape"
      ],
      "execution_count": 3,
      "outputs": [
        {
          "output_type": "execute_result",
          "data": {
            "text/plain": [
              "(5000, 12, 5000)"
            ]
          },
          "metadata": {
            "tags": []
          },
          "execution_count": 3
        }
      ]
    },
    {
      "cell_type": "code",
      "metadata": {
        "id": "8rquL9iYDySE",
        "colab_type": "code",
        "outputId": "0f1b8d49-ef4b-45b4-a748-8fc307ab8837",
        "colab": {
          "base_uri": "https://localhost:8080/",
          "height": 899
        }
      },
      "source": [
        "ECG_DATA"
      ],
      "execution_count": 4,
      "outputs": [
        {
          "output_type": "execute_result",
          "data": {
            "text/plain": [
              "array([[[-253.76, -253.76, -253.76, ...,  -34.16,   24.4 ,    4.88],\n",
              "        [ 263.52,  263.52,  263.52, ...,  -68.32,  -48.8 ,  -34.16],\n",
              "        [ 517.28,  517.28,  517.28, ...,  -34.16,  -73.2 ,  -39.04],\n",
              "        ...,\n",
              "        [ 810.08,  810.08,  810.08, ..., -204.96, -200.08, -170.8 ],\n",
              "        [ 810.08,  810.08,  810.08, ..., -200.08, -195.2 , -165.92],\n",
              "        [ 527.04,  527.04,  527.04, ...,  102.48,   92.72,  112.24]],\n",
              "\n",
              "       [[  -9.76,  -24.4 ,  -19.52, ...,   14.64,    9.76,    9.76],\n",
              "        [   9.76,  -19.52,  -19.52, ...,    9.76,    9.76,    9.76],\n",
              "        [  19.52,    4.88,    0.  , ...,   -4.88,    0.  ,    0.  ],\n",
              "        ...,\n",
              "        [  53.68,   34.16,   34.16, ...,  -14.64,  -19.52,  -24.4 ],\n",
              "        [  48.8 ,   34.16,   34.16, ...,  -19.52,  -24.4 ,  -29.28],\n",
              "        [   0.  ,  -14.64,   -9.76, ...,    4.88,    0.  ,   -4.88]],\n",
              "\n",
              "       [[ -29.28,  -19.52,   -9.76, ...,   73.2 ,   78.08,   73.2 ],\n",
              "        [ -63.44,  -53.68,  -43.92, ...,  -68.32,  -68.32,  -73.2 ],\n",
              "        [ -34.16,  -34.16,  -34.16, ..., -141.52, -146.4 , -146.4 ],\n",
              "        ...,\n",
              "        [ 317.2 ,  326.96,  341.6 , ...,  136.64,  136.64,  136.64],\n",
              "        [  63.44,   58.56,   73.2 , ...,  224.48,  219.6 ,  214.72],\n",
              "        [ -14.64,   -9.76,    0.  , ...,  287.92,  283.04,  253.76]],\n",
              "\n",
              "       ...,\n",
              "\n",
              "       [[  34.16,   29.28,   14.64, ...,  -14.64,   -9.76,   -4.88],\n",
              "        [  39.04,   43.92,   24.4 , ...,   14.64,   19.52,    9.76],\n",
              "        [   4.88,   14.64,    9.76, ...,   29.28,   29.28,   14.64],\n",
              "        ...,\n",
              "        [ -53.68,  -58.56,  -53.68, ...,    4.88,    9.76,   -4.88],\n",
              "        [ -43.92,  -43.92,  -48.8 , ...,   19.52,   19.52,    4.88],\n",
              "        [  19.52,   14.64,    9.76, ...,  -43.92,  -48.8 ,  -63.44]],\n",
              "\n",
              "       [[   9.76,    9.76,    9.76, ...,   97.6 ,   97.6 ,   92.72],\n",
              "        [ -39.04,  -39.04,  -39.04, ...,  -63.44,  -58.56,  -73.2 ],\n",
              "        [ -48.8 ,  -48.8 ,  -48.8 , ..., -161.04, -156.16, -165.92],\n",
              "        ...,\n",
              "        [ -78.08,  -78.08,  -78.08, ...,  204.96,  204.96,  200.08],\n",
              "        [  68.32,   68.32,   68.32, ...,  -97.6 ,  -97.6 , -107.36],\n",
              "        [   0.  ,    0.  ,    0.  , ...,   34.16,   39.04,   29.28]],\n",
              "\n",
              "       [[   0.  ,    0.  ,    0.  , ...,    9.76,    9.76,    9.76],\n",
              "        [   9.76,    9.76,    9.76, ...,   39.04,   39.04,   48.8 ],\n",
              "        [   9.76,    9.76,    9.76, ...,   29.28,   29.28,   39.04],\n",
              "        ...,\n",
              "        [  39.04,   39.04,   39.04, ...,  122.  ,  117.12,  117.12],\n",
              "        [   0.  ,    0.  ,    0.  , ...,   97.6 ,   97.6 ,   97.6 ],\n",
              "        [  78.08,   78.08,   78.08, ...,  -87.84,  -87.84,  -97.6 ]]])"
            ]
          },
          "metadata": {
            "tags": []
          },
          "execution_count": 4
        }
      ]
    },
    {
      "cell_type": "code",
      "metadata": {
        "id": "OJT0PBvwrwnu",
        "colab_type": "code",
        "outputId": "e14a19b5-97a1-491b-eb31-6e9f5f4081b2",
        "colab": {
          "base_uri": "https://localhost:8080/",
          "height": 145
        }
      },
      "source": [
        "df=pd.read_excel('/content/drive/My Drive/세종병원/Data/Diagnostics.xlsx')\n",
        "label_df=df[['PatientAge','Gender']]\n",
        "label_df.loc[label_df.Gender=='MALE','Gender']=1\n",
        "label_df.loc[label_df.Gender=='FEMALE','Gender']=0"
      ],
      "execution_count": 5,
      "outputs": [
        {
          "output_type": "stream",
          "text": [
            "/usr/local/lib/python3.6/dist-packages/pandas/core/indexing.py:966: SettingWithCopyWarning: \n",
            "A value is trying to be set on a copy of a slice from a DataFrame.\n",
            "Try using .loc[row_indexer,col_indexer] = value instead\n",
            "\n",
            "See the caveats in the documentation: https://pandas.pydata.org/pandas-docs/stable/user_guide/indexing.html#returning-a-view-versus-a-copy\n",
            "  self.obj[item] = s\n"
          ],
          "name": "stderr"
        }
      ]
    },
    {
      "cell_type": "code",
      "metadata": {
        "id": "niFINBp5QHQL",
        "colab_type": "code",
        "outputId": "0c4d094e-44c2-4b61-a1bb-d86f70c3c60c",
        "colab": {
          "base_uri": "https://localhost:8080/",
          "height": 417
        }
      },
      "source": [
        "label_df"
      ],
      "execution_count": 6,
      "outputs": [
        {
          "output_type": "execute_result",
          "data": {
            "text/html": [
              "<div>\n",
              "<style scoped>\n",
              "    .dataframe tbody tr th:only-of-type {\n",
              "        vertical-align: middle;\n",
              "    }\n",
              "\n",
              "    .dataframe tbody tr th {\n",
              "        vertical-align: top;\n",
              "    }\n",
              "\n",
              "    .dataframe thead th {\n",
              "        text-align: right;\n",
              "    }\n",
              "</style>\n",
              "<table border=\"1\" class=\"dataframe\">\n",
              "  <thead>\n",
              "    <tr style=\"text-align: right;\">\n",
              "      <th></th>\n",
              "      <th>PatientAge</th>\n",
              "      <th>Gender</th>\n",
              "    </tr>\n",
              "  </thead>\n",
              "  <tbody>\n",
              "    <tr>\n",
              "      <th>0</th>\n",
              "      <td>85</td>\n",
              "      <td>1</td>\n",
              "    </tr>\n",
              "    <tr>\n",
              "      <th>1</th>\n",
              "      <td>59</td>\n",
              "      <td>0</td>\n",
              "    </tr>\n",
              "    <tr>\n",
              "      <th>2</th>\n",
              "      <td>20</td>\n",
              "      <td>0</td>\n",
              "    </tr>\n",
              "    <tr>\n",
              "      <th>3</th>\n",
              "      <td>66</td>\n",
              "      <td>1</td>\n",
              "    </tr>\n",
              "    <tr>\n",
              "      <th>4</th>\n",
              "      <td>73</td>\n",
              "      <td>0</td>\n",
              "    </tr>\n",
              "    <tr>\n",
              "      <th>...</th>\n",
              "      <td>...</td>\n",
              "      <td>...</td>\n",
              "    </tr>\n",
              "    <tr>\n",
              "      <th>10641</th>\n",
              "      <td>80</td>\n",
              "      <td>0</td>\n",
              "    </tr>\n",
              "    <tr>\n",
              "      <th>10642</th>\n",
              "      <td>81</td>\n",
              "      <td>0</td>\n",
              "    </tr>\n",
              "    <tr>\n",
              "      <th>10643</th>\n",
              "      <td>39</td>\n",
              "      <td>1</td>\n",
              "    </tr>\n",
              "    <tr>\n",
              "      <th>10644</th>\n",
              "      <td>76</td>\n",
              "      <td>1</td>\n",
              "    </tr>\n",
              "    <tr>\n",
              "      <th>10645</th>\n",
              "      <td>75</td>\n",
              "      <td>1</td>\n",
              "    </tr>\n",
              "  </tbody>\n",
              "</table>\n",
              "<p>10646 rows × 2 columns</p>\n",
              "</div>"
            ],
            "text/plain": [
              "       PatientAge Gender\n",
              "0              85      1\n",
              "1              59      0\n",
              "2              20      0\n",
              "3              66      1\n",
              "4              73      0\n",
              "...           ...    ...\n",
              "10641          80      0\n",
              "10642          81      0\n",
              "10643          39      1\n",
              "10644          76      1\n",
              "10645          75      1\n",
              "\n",
              "[10646 rows x 2 columns]"
            ]
          },
          "metadata": {
            "tags": []
          },
          "execution_count": 6
        }
      ]
    },
    {
      "cell_type": "code",
      "metadata": {
        "id": "U2oO1WwSvcUM",
        "colab_type": "code",
        "colab": {}
      },
      "source": [
        "Age=label_df.PatientAge[:ECG_DATA.shape[0]]\n",
        "Sex=label_df.Gender[:ECG_DATA.shape[0]]"
      ],
      "execution_count": 0,
      "outputs": []
    },
    {
      "cell_type": "code",
      "metadata": {
        "id": "AwGRG_mAQMdJ",
        "colab_type": "code",
        "outputId": "5cac0d5b-2531-4c3a-b9a1-d2195750fcb2",
        "colab": {
          "base_uri": "https://localhost:8080/",
          "height": 215
        }
      },
      "source": [
        "Age.head(10)"
      ],
      "execution_count": 10,
      "outputs": [
        {
          "output_type": "execute_result",
          "data": {
            "text/plain": [
              "0    85\n",
              "1    59\n",
              "2    20\n",
              "3    66\n",
              "4    73\n",
              "5    46\n",
              "6    80\n",
              "7    46\n",
              "8    45\n",
              "9    47\n",
              "Name: PatientAge, dtype: int64"
            ]
          },
          "metadata": {
            "tags": []
          },
          "execution_count": 10
        }
      ]
    },
    {
      "cell_type": "code",
      "metadata": {
        "id": "7VIbCUx1sDNb",
        "colab_type": "code",
        "colab": {}
      },
      "source": [
        "from sklearn.model_selection import train_test_split \n",
        "X_train,X_test,y_train,y_test=train_test_split(ECG_DATA,Age,test_size=0.36,random_state=42)\n",
        "# 1750개의 데이터를 64:36 으로 train 데이터와 test데이터로 나눠줌."
      ],
      "execution_count": 0,
      "outputs": []
    },
    {
      "cell_type": "code",
      "metadata": {
        "id": "oBnZLY7oscKV",
        "colab_type": "code",
        "colab": {}
      },
      "source": [
        "from sklearn.model_selection import train_test_split \n",
        "X_train,X_val,y_train,y_val=train_test_split(X_train,y_train,test_size=0.25,random_state=42)\n",
        "# train 데이터를 75:25로 train 데이터와 validation 데이터로 나눠줌."
      ],
      "execution_count": 0,
      "outputs": []
    },
    {
      "cell_type": "code",
      "metadata": {
        "id": "B2ejnTrkst-V",
        "colab_type": "code",
        "outputId": "49381b16-4de3-439e-c293-e979f0f40f53",
        "colab": {
          "base_uri": "https://localhost:8080/",
          "height": 71
        }
      },
      "source": [
        "print(X_train.shape)\n",
        "print(X_val.shape)\n",
        "print(X_test.shape)"
      ],
      "execution_count": 13,
      "outputs": [
        {
          "output_type": "stream",
          "text": [
            "(2400, 12, 5000)\n",
            "(800, 12, 5000)\n",
            "(1800, 12, 5000)\n"
          ],
          "name": "stdout"
        }
      ]
    },
    {
      "cell_type": "code",
      "metadata": {
        "id": "yty_mFFLuKeS",
        "colab_type": "code",
        "colab": {}
      },
      "source": [
        "# X데이터를 2차원에서 3차원으로 변환(train,val,test 각각에 대해)\n",
        "X_train_3=X_train.reshape(X_train.shape[0],12,5000,1)\n",
        "X_val_3=X_val.reshape(X_val.shape[0],12,5000,1)\n",
        "X_test_3=X_test.reshape(X_test.shape[0],12,5000,1)"
      ],
      "execution_count": 0,
      "outputs": []
    },
    {
      "cell_type": "code",
      "metadata": {
        "id": "M8dLZOJDvQ-6",
        "colab_type": "code",
        "colab": {}
      },
      "source": [
        "from keras.models import Sequential\n",
        "from keras.layers import Conv2D,MaxPooling2D,ZeroPadding2D,Activation,BatchNormalization\n",
        "\n",
        "# Temporal Analysis\n",
        "\n",
        "model=Sequential()\n",
        "\n",
        "model.add(ZeroPadding2D(padding=(0,2560),\n",
        "                       input_shape=(12,5000,1)))\n",
        "\n",
        "model.add(Conv2D(filters=16,\n",
        "                kernel_size=(1,7)))\n",
        "model.add(BatchNormalization())\n",
        "model.add(Activation('relu'))\n",
        "model.add(MaxPooling2D((1,2)))\n",
        "\n",
        "model.add(Conv2D(filters=16,\n",
        "                kernel_size=(1,5)))\n",
        "model.add(BatchNormalization())\n",
        "model.add(Activation('relu'))\n",
        "model.add(MaxPooling2D((1,4)))\n",
        "\n",
        "model.add(Conv2D(filters=32,\n",
        "                kernel_size=(1,5)))\n",
        "model.add(BatchNormalization())\n",
        "model.add(Activation('relu'))\n",
        "model.add(MaxPooling2D((1,2)))\n",
        "\n",
        "model.add(Conv2D(filters=32,\n",
        "                kernel_size=(1,5)))\n",
        "model.add(BatchNormalization())\n",
        "model.add(Activation('relu'))\n",
        "model.add(MaxPooling2D((1,4)))\n",
        "\n",
        "model.add(Conv2D(filters=64,\n",
        "                kernel_size=(1,5)))\n",
        "model.add(BatchNormalization())\n",
        "model.add(Activation('relu'))\n",
        "model.add(MaxPooling2D((1,2)))\n",
        "\n",
        "model.add(Conv2D(filters=64,\n",
        "                kernel_size=(1,3)))\n",
        "model.add(BatchNormalization())\n",
        "model.add(Activation('relu'))\n",
        "model.add(MaxPooling2D((1,2)))\n",
        "\n",
        "model.add(Conv2D(filters=64,\n",
        "                kernel_size=(1,3)))\n",
        "model.add(BatchNormalization())\n",
        "model.add(Activation('relu'))\n",
        "model.add(MaxPooling2D((1,2)))\n",
        "\n",
        "model.add(Conv2D(filters=64,\n",
        "                kernel_size=(1,3)))\n",
        "model.add(BatchNormalization())\n",
        "model.add(Activation('relu'))"
      ],
      "execution_count": 0,
      "outputs": []
    },
    {
      "cell_type": "code",
      "metadata": {
        "id": "jpJsFWT1Ejk9",
        "colab_type": "code",
        "colab": {}
      },
      "source": [
        "# Spatial Analysis\n",
        "\n",
        "model.add(Conv2D(filters=128,\n",
        "                kernel_size=(12,1)))\n",
        "model.add(BatchNormalization())\n",
        "model.add(Activation('relu'))\n",
        "model.add(MaxPooling2D((1,2)))\n"
      ],
      "execution_count": 0,
      "outputs": []
    },
    {
      "cell_type": "code",
      "metadata": {
        "id": "R5kX-ivPElCy",
        "colab_type": "code",
        "colab": {}
      },
      "source": [
        "# Fully Connected\n",
        "\n",
        "from keras.layers import Dense,BatchNormalization, Dropout,Flatten\n",
        "\n",
        "model.add(Flatten())\n",
        "\n",
        "\n",
        "model.add(Dense(128,input_dim=(1,5080)))\n",
        "model.add(BatchNormalization())\n",
        "model.add(Activation('relu'))\n",
        "model.add(Dropout(0.2)) # 조절\n",
        "\n",
        "model.add(Dense(64,input_dim=(1,5080)))\n",
        "model.add(BatchNormalization())\n",
        "model.add(Activation('relu'))\n",
        "model.add(Dropout(0.2)) # 조절\n",
        "\n",
        "#model.add(Activation('softmax'))\n",
        "model.add(Dense(1,activation='linear'))"
      ],
      "execution_count": 0,
      "outputs": []
    },
    {
      "cell_type": "code",
      "metadata": {
        "id": "DEI4ryc2Ek75",
        "colab_type": "code",
        "outputId": "67147068-d03e-4da0-fb03-7fe7f94dec0a",
        "colab": {
          "base_uri": "https://localhost:8080/",
          "height": 1000
        }
      },
      "source": [
        "model.summary()"
      ],
      "execution_count": 24,
      "outputs": [
        {
          "output_type": "stream",
          "text": [
            "Model: \"sequential_2\"\n",
            "_________________________________________________________________\n",
            "Layer (type)                 Output Shape              Param #   \n",
            "=================================================================\n",
            "zero_padding2d_2 (ZeroPaddin (None, 12, 10120, 1)      0         \n",
            "_________________________________________________________________\n",
            "conv2d_10 (Conv2D)           (None, 12, 10114, 16)     128       \n",
            "_________________________________________________________________\n",
            "batch_normalization_12 (Batc (None, 12, 10114, 16)     64        \n",
            "_________________________________________________________________\n",
            "activation_12 (Activation)   (None, 12, 10114, 16)     0         \n",
            "_________________________________________________________________\n",
            "max_pooling2d_9 (MaxPooling2 (None, 12, 5057, 16)      0         \n",
            "_________________________________________________________________\n",
            "conv2d_11 (Conv2D)           (None, 12, 5053, 16)      1296      \n",
            "_________________________________________________________________\n",
            "batch_normalization_13 (Batc (None, 12, 5053, 16)      64        \n",
            "_________________________________________________________________\n",
            "activation_13 (Activation)   (None, 12, 5053, 16)      0         \n",
            "_________________________________________________________________\n",
            "max_pooling2d_10 (MaxPooling (None, 12, 1263, 16)      0         \n",
            "_________________________________________________________________\n",
            "conv2d_12 (Conv2D)           (None, 12, 1259, 32)      2592      \n",
            "_________________________________________________________________\n",
            "batch_normalization_14 (Batc (None, 12, 1259, 32)      128       \n",
            "_________________________________________________________________\n",
            "activation_14 (Activation)   (None, 12, 1259, 32)      0         \n",
            "_________________________________________________________________\n",
            "max_pooling2d_11 (MaxPooling (None, 12, 629, 32)       0         \n",
            "_________________________________________________________________\n",
            "conv2d_13 (Conv2D)           (None, 12, 625, 32)       5152      \n",
            "_________________________________________________________________\n",
            "batch_normalization_15 (Batc (None, 12, 625, 32)       128       \n",
            "_________________________________________________________________\n",
            "activation_15 (Activation)   (None, 12, 625, 32)       0         \n",
            "_________________________________________________________________\n",
            "max_pooling2d_12 (MaxPooling (None, 12, 156, 32)       0         \n",
            "_________________________________________________________________\n",
            "conv2d_14 (Conv2D)           (None, 12, 152, 64)       10304     \n",
            "_________________________________________________________________\n",
            "batch_normalization_16 (Batc (None, 12, 152, 64)       256       \n",
            "_________________________________________________________________\n",
            "activation_16 (Activation)   (None, 12, 152, 64)       0         \n",
            "_________________________________________________________________\n",
            "max_pooling2d_13 (MaxPooling (None, 12, 76, 64)        0         \n",
            "_________________________________________________________________\n",
            "conv2d_15 (Conv2D)           (None, 12, 74, 64)        12352     \n",
            "_________________________________________________________________\n",
            "batch_normalization_17 (Batc (None, 12, 74, 64)        256       \n",
            "_________________________________________________________________\n",
            "activation_17 (Activation)   (None, 12, 74, 64)        0         \n",
            "_________________________________________________________________\n",
            "max_pooling2d_14 (MaxPooling (None, 12, 37, 64)        0         \n",
            "_________________________________________________________________\n",
            "conv2d_16 (Conv2D)           (None, 12, 35, 64)        12352     \n",
            "_________________________________________________________________\n",
            "batch_normalization_18 (Batc (None, 12, 35, 64)        256       \n",
            "_________________________________________________________________\n",
            "activation_18 (Activation)   (None, 12, 35, 64)        0         \n",
            "_________________________________________________________________\n",
            "max_pooling2d_15 (MaxPooling (None, 12, 17, 64)        0         \n",
            "_________________________________________________________________\n",
            "conv2d_17 (Conv2D)           (None, 12, 15, 64)        12352     \n",
            "_________________________________________________________________\n",
            "batch_normalization_19 (Batc (None, 12, 15, 64)        256       \n",
            "_________________________________________________________________\n",
            "activation_19 (Activation)   (None, 12, 15, 64)        0         \n",
            "_________________________________________________________________\n",
            "conv2d_18 (Conv2D)           (None, 1, 15, 128)        98432     \n",
            "_________________________________________________________________\n",
            "batch_normalization_20 (Batc (None, 1, 15, 128)        512       \n",
            "_________________________________________________________________\n",
            "activation_20 (Activation)   (None, 1, 15, 128)        0         \n",
            "_________________________________________________________________\n",
            "max_pooling2d_16 (MaxPooling (None, 1, 7, 128)         0         \n",
            "_________________________________________________________________\n",
            "flatten_2 (Flatten)          (None, 896)               0         \n",
            "_________________________________________________________________\n",
            "dense_4 (Dense)              (None, 128)               114816    \n",
            "_________________________________________________________________\n",
            "batch_normalization_21 (Batc (None, 128)               512       \n",
            "_________________________________________________________________\n",
            "activation_21 (Activation)   (None, 128)               0         \n",
            "_________________________________________________________________\n",
            "dropout_3 (Dropout)          (None, 128)               0         \n",
            "_________________________________________________________________\n",
            "dense_5 (Dense)              (None, 64)                8256      \n",
            "_________________________________________________________________\n",
            "batch_normalization_22 (Batc (None, 64)                256       \n",
            "_________________________________________________________________\n",
            "activation_22 (Activation)   (None, 64)                0         \n",
            "_________________________________________________________________\n",
            "dropout_4 (Dropout)          (None, 64)                0         \n",
            "_________________________________________________________________\n",
            "dense_6 (Dense)              (None, 1)                 65        \n",
            "=================================================================\n",
            "Total params: 280,785\n",
            "Trainable params: 279,441\n",
            "Non-trainable params: 1,344\n",
            "_________________________________________________________________\n"
          ],
          "name": "stdout"
        }
      ]
    },
    {
      "cell_type": "code",
      "metadata": {
        "id": "ocT2F7-YEkxq",
        "colab_type": "code",
        "colab": {}
      },
      "source": [
        "model.compile(loss='mean_squared_error',optimizer='adam',metrics=['mae'])"
      ],
      "execution_count": 0,
      "outputs": []
    },
    {
      "cell_type": "code",
      "metadata": {
        "id": "HYRzdFo9EoYS",
        "colab_type": "code",
        "outputId": "4655a095-609e-44e5-f40b-bd5bc6b2140e",
        "colab": {
          "base_uri": "https://localhost:8080/",
          "height": 1000
        }
      },
      "source": [
        "from keras.callbacks import EarlyStopping, ModelCheckpoint\n",
        "\n",
        "early_stop = EarlyStopping(patience=20)\n",
        "\n",
        "batch_size = 64\n",
        "epochs = 100\n",
        "\n",
        "history = model.fit(X_train_3,y_train,\n",
        "                   validation_data=(X_val_3,y_val),\n",
        "                    batch_size=batch_size,\n",
        "                    nb_epoch=epochs, verbose=1,\n",
        "                    callbacks=[early_stop]\n",
        "                   )"
      ],
      "execution_count": 26,
      "outputs": [
        {
          "output_type": "stream",
          "text": [
            "/usr/local/lib/python3.6/dist-packages/ipykernel_launcher.py:13: UserWarning: The `nb_epoch` argument in `fit` has been renamed `epochs`.\n",
            "  del sys.path[0]\n"
          ],
          "name": "stderr"
        },
        {
          "output_type": "stream",
          "text": [
            "Train on 2400 samples, validate on 800 samples\n",
            "Epoch 1/100\n",
            "2400/2400 [==============================] - 37s 16ms/step - loss: 3689.9468 - mae: 58.1740 - val_loss: 3858.8115 - val_mae: 59.6656\n",
            "Epoch 2/100\n",
            "2400/2400 [==============================] - 35s 15ms/step - loss: 3476.7656 - mae: 56.6378 - val_loss: 3489.9706 - val_mae: 56.6208\n",
            "Epoch 3/100\n",
            "2400/2400 [==============================] - 35s 15ms/step - loss: 3258.2618 - mae: 54.9265 - val_loss: 3162.2777 - val_mae: 54.1146\n",
            "Epoch 4/100\n",
            "2400/2400 [==============================] - 35s 15ms/step - loss: 3028.7702 - mae: 52.9518 - val_loss: 2589.6284 - val_mae: 48.7233\n",
            "Epoch 5/100\n",
            "2400/2400 [==============================] - 35s 15ms/step - loss: 2793.6372 - mae: 50.7650 - val_loss: 2012.7508 - val_mae: 42.6804\n",
            "Epoch 6/100\n",
            "2400/2400 [==============================] - 35s 15ms/step - loss: 2558.0744 - mae: 48.4430 - val_loss: 2578.2994 - val_mae: 48.2954\n",
            "Epoch 7/100\n",
            "2400/2400 [==============================] - 35s 15ms/step - loss: 2322.6609 - mae: 45.9952 - val_loss: 2936.8352 - val_mae: 51.6276\n",
            "Epoch 8/100\n",
            "2400/2400 [==============================] - 35s 15ms/step - loss: 2069.1058 - mae: 43.2428 - val_loss: 1337.3240 - val_mae: 33.6455\n",
            "Epoch 9/100\n",
            "2400/2400 [==============================] - 35s 15ms/step - loss: 1830.0847 - mae: 40.3781 - val_loss: 1985.9178 - val_mae: 41.3853\n",
            "Epoch 10/100\n",
            "2400/2400 [==============================] - 35s 15ms/step - loss: 1588.3259 - mae: 37.3232 - val_loss: 1087.2655 - val_mae: 29.4879\n",
            "Epoch 11/100\n",
            "2400/2400 [==============================] - 35s 15ms/step - loss: 1380.9570 - mae: 34.3681 - val_loss: 1378.1785 - val_mae: 33.2380\n",
            "Epoch 12/100\n",
            "2400/2400 [==============================] - 35s 15ms/step - loss: 1162.8298 - mae: 31.3343 - val_loss: 979.1943 - val_mae: 27.0359\n",
            "Epoch 13/100\n",
            "2400/2400 [==============================] - 35s 15ms/step - loss: 972.7778 - mae: 28.0538 - val_loss: 226.9647 - val_mae: 11.3299\n",
            "Epoch 14/100\n",
            "2400/2400 [==============================] - 35s 15ms/step - loss: 828.6755 - mae: 25.4764 - val_loss: 553.1235 - val_mae: 17.5064\n",
            "Epoch 15/100\n",
            "2400/2400 [==============================] - 35s 15ms/step - loss: 675.6437 - mae: 22.5980 - val_loss: 324.6110 - val_mae: 13.2307\n",
            "Epoch 16/100\n",
            "2400/2400 [==============================] - 35s 15ms/step - loss: 548.7820 - mae: 20.1347 - val_loss: 683.4389 - val_mae: 21.5222\n",
            "Epoch 17/100\n",
            "2400/2400 [==============================] - 35s 15ms/step - loss: 437.2452 - mae: 17.5241 - val_loss: 292.1493 - val_mae: 12.5391\n",
            "Epoch 18/100\n",
            "2400/2400 [==============================] - 35s 15ms/step - loss: 341.1469 - mae: 15.2909 - val_loss: 206.1188 - val_mae: 10.8292\n",
            "Epoch 19/100\n",
            "2400/2400 [==============================] - 35s 15ms/step - loss: 278.5402 - mae: 13.6302 - val_loss: 292.8141 - val_mae: 13.5823\n",
            "Epoch 20/100\n",
            "2400/2400 [==============================] - 35s 14ms/step - loss: 227.5543 - mae: 12.1718 - val_loss: 277.5146 - val_mae: 13.7312\n",
            "Epoch 21/100\n",
            "2400/2400 [==============================] - 35s 14ms/step - loss: 181.0560 - mae: 10.5897 - val_loss: 188.5542 - val_mae: 10.8929\n",
            "Epoch 22/100\n",
            "2400/2400 [==============================] - 35s 14ms/step - loss: 152.9290 - mae: 9.7718 - val_loss: 215.3002 - val_mae: 11.9473\n",
            "Epoch 23/100\n",
            "2400/2400 [==============================] - 35s 14ms/step - loss: 149.3194 - mae: 9.7025 - val_loss: 222.3517 - val_mae: 12.1244\n",
            "Epoch 24/100\n",
            "2400/2400 [==============================] - 35s 14ms/step - loss: 125.9604 - mae: 8.8283 - val_loss: 148.1365 - val_mae: 9.5263\n",
            "Epoch 25/100\n",
            "2400/2400 [==============================] - 35s 14ms/step - loss: 117.0034 - mae: 8.5336 - val_loss: 196.4101 - val_mae: 11.3086\n",
            "Epoch 26/100\n",
            "2400/2400 [==============================] - 35s 14ms/step - loss: 99.6958 - mae: 7.9141 - val_loss: 199.7259 - val_mae: 11.4677\n",
            "Epoch 27/100\n",
            "2400/2400 [==============================] - 35s 14ms/step - loss: 89.5892 - mae: 7.3845 - val_loss: 184.0644 - val_mae: 11.0475\n",
            "Epoch 28/100\n",
            "2400/2400 [==============================] - 35s 14ms/step - loss: 87.4844 - mae: 7.3316 - val_loss: 243.7788 - val_mae: 12.9940\n",
            "Epoch 29/100\n",
            "2400/2400 [==============================] - 35s 14ms/step - loss: 91.2984 - mae: 7.5194 - val_loss: 170.5122 - val_mae: 10.5629\n",
            "Epoch 30/100\n",
            "2400/2400 [==============================] - 35s 14ms/step - loss: 80.7976 - mae: 7.1273 - val_loss: 151.8721 - val_mae: 9.6491\n",
            "Epoch 31/100\n",
            "2400/2400 [==============================] - 35s 14ms/step - loss: 74.0021 - mae: 6.7308 - val_loss: 153.3278 - val_mae: 9.6438\n",
            "Epoch 32/100\n",
            "2400/2400 [==============================] - 35s 14ms/step - loss: 66.9385 - mae: 6.4577 - val_loss: 178.1637 - val_mae: 10.7337\n",
            "Epoch 33/100\n",
            "2400/2400 [==============================] - 35s 14ms/step - loss: 67.5980 - mae: 6.4697 - val_loss: 154.7116 - val_mae: 9.6458\n",
            "Epoch 34/100\n",
            "2400/2400 [==============================] - 35s 14ms/step - loss: 63.2054 - mae: 6.2266 - val_loss: 181.6986 - val_mae: 10.9548\n",
            "Epoch 35/100\n",
            "2400/2400 [==============================] - 35s 14ms/step - loss: 65.0022 - mae: 6.3888 - val_loss: 151.2908 - val_mae: 9.4518\n",
            "Epoch 36/100\n",
            "2400/2400 [==============================] - 35s 14ms/step - loss: 66.6986 - mae: 6.4881 - val_loss: 181.5349 - val_mae: 10.9108\n",
            "Epoch 37/100\n",
            "2400/2400 [==============================] - 35s 14ms/step - loss: 56.6927 - mae: 5.9384 - val_loss: 162.0544 - val_mae: 10.0301\n",
            "Epoch 38/100\n",
            "2400/2400 [==============================] - 35s 14ms/step - loss: 61.0204 - mae: 6.2003 - val_loss: 172.4026 - val_mae: 10.0424\n",
            "Epoch 39/100\n",
            "2400/2400 [==============================] - 35s 14ms/step - loss: 62.6216 - mae: 6.3104 - val_loss: 199.6126 - val_mae: 11.3537\n",
            "Epoch 40/100\n",
            "2400/2400 [==============================] - 35s 14ms/step - loss: 61.7004 - mae: 6.1209 - val_loss: 184.7245 - val_mae: 10.8210\n",
            "Epoch 41/100\n",
            "2400/2400 [==============================] - 35s 14ms/step - loss: 59.6342 - mae: 6.1576 - val_loss: 160.4875 - val_mae: 9.9331\n",
            "Epoch 42/100\n",
            "2400/2400 [==============================] - 35s 14ms/step - loss: 59.3056 - mae: 6.0570 - val_loss: 188.1023 - val_mae: 11.0489\n",
            "Epoch 43/100\n",
            "2400/2400 [==============================] - 35s 14ms/step - loss: 54.8924 - mae: 5.8627 - val_loss: 166.1112 - val_mae: 10.1435\n",
            "Epoch 44/100\n",
            "2400/2400 [==============================] - 35s 14ms/step - loss: 54.1352 - mae: 5.7742 - val_loss: 190.0246 - val_mae: 11.1219\n"
          ],
          "name": "stdout"
        }
      ]
    },
    {
      "cell_type": "code",
      "metadata": {
        "id": "YDlamEfnEoVO",
        "colab_type": "code",
        "outputId": "0f2b8005-ca40-467b-c81f-27b7a57f2573",
        "colab": {
          "base_uri": "https://localhost:8080/",
          "height": 89
        }
      },
      "source": [
        "train_mae = model.evaluate(X_train_3, y_train)\n",
        "test_mae = model.evaluate(X_test_3, y_test)\n",
        "\n",
        "print(\"Train Mae: \", train_mae)\n",
        "print(\"Test Mae: \", test_mae)"
      ],
      "execution_count": 27,
      "outputs": [
        {
          "output_type": "stream",
          "text": [
            "2400/2400 [==============================] - 9s 4ms/step\n",
            "1800/1800 [==============================] - 7s 4ms/step\n",
            "Train Mae:  [67.22712112426758, 6.840641498565674]\n",
            "Test Mae:  [193.75635389539931, 11.112357139587402]\n"
          ],
          "name": "stdout"
        }
      ]
    },
    {
      "cell_type": "code",
      "metadata": {
        "id": "vkxiIuisEoS4",
        "colab_type": "code",
        "outputId": "970aef39-bf47-4ec5-9cdf-abbcb8d7c056",
        "colab": {
          "base_uri": "https://localhost:8080/",
          "height": 573
        }
      },
      "source": [
        "import matplotlib.pyplot as plt\n",
        "\n",
        "plt.plot(history.history['mae'], 'r')\n",
        "plt.plot(history.history['val_mae'], 'g')\n",
        "\n",
        "plt.title('MAE')\n",
        "plt.xlabel('epoch')\n",
        "plt.ylabel('mae')\n",
        "plt.legend(['train', 'val'], loc='upper left')\n",
        "plt.show()\n",
        "\n",
        "plt.plot(history.history['loss'], 'g')\n",
        "plt.plot(history.history['val_loss'], 'r')\n",
        "\n",
        "plt.title('Loss')\n",
        "plt.xlabel('epoch')\n",
        "plt.ylabel('loss')\n",
        "plt.legend(['train', 'val'], loc='upper left')\n",
        "plt.show()"
      ],
      "execution_count": 28,
      "outputs": [
        {
          "output_type": "display_data",
          "data": {
            "image/png": "[encoded data removed]",
            "text/plain": [
              "<Figure size 432x288 with 1 Axes>"
            ]
          },
          "metadata": {
            "tags": [],
            "needs_background": "light"
          }
        },
        {
          "output_type": "display_data",
          "data": {
            "image/png": "[encoded data removed]",
            "text/plain": [
              "<Figure size 432x288 with 1 Axes>"
            ]
          },
          "metadata": {
            "tags": [],
            "needs_background": "light"
          }
        }
      ]
    },
    {
      "cell_type": "code",
      "metadata": {
        "id": "upd2mxnlEoO8",
        "colab_type": "code",
        "colab": {}
      },
      "source": [
        ""
      ],
      "execution_count": 0,
      "outputs": []
    },
    {
      "cell_type": "code",
      "metadata": {
        "id": "ocVBxI6XEoND",
        "colab_type": "code",
        "colab": {}
      },
      "source": [
        ""
      ],
      "execution_count": 0,
      "outputs": []
    },
    {
      "cell_type": "code",
      "metadata": {
        "id": "LbuKgnDEEoKZ",
        "colab_type": "code",
        "colab": {}
      },
      "source": [
        ""
      ],
      "execution_count": 0,
      "outputs": []
    }
  ]
}