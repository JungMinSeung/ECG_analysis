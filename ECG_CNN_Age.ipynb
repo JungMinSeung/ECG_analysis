{
  "nbformat": 4,
  "nbformat_minor": 0,
  "metadata": {
    "colab": {
      "name": "ECG_CNN_Age.ipynb",
      "provenance": [],
      "collapsed_sections": [],
      "authorship_tag": "ABX9TyMJrfJ2iWyQDEEeqT/q0s7D",
      "include_colab_link": true
    },
    "kernelspec": {
      "name": "python3",
      "display_name": "Python 3"
    },
    "accelerator": "GPU"
  },
  "cells": [
    {
      "cell_type": "markdown",
      "metadata": {
        "id": "view-in-github",
        "colab_type": "text"
      },
      "source": [
        "<a href=\"https://colab.research.google.com/github/JungMinSeung/ECG_analysis/blob/master/ECG_CNN_Age.ipynb\" target=\"_parent\"><img src=\"https://colab.research.google.com/assets/colab-badge.svg\" alt=\"Open In Colab\"/></a>"
      ]
    },
    {
      "cell_type": "code",
      "metadata": {
        "id": "64f2M4lXTvf7",
        "colab_type": "code",
        "colab": {
          "base_uri": "https://localhost:8080/",
          "height": 127
        },
        "outputId": "173925e1-006e-4d79-9705-5f3fcbc46406"
      },
      "source": [
        "from google.colab import drive\n",
        "drive.mount('/content/drive/')"
      ],
      "execution_count": 2,
      "outputs": [
        {
          "output_type": "stream",
          "text": [
            "Go to this URL in a browser: https://accounts.google.com/o/oauth2/auth?client_id=947318989803-6bn6qk8qdgf4n4g3pfee6491hc0brc4i.apps.googleusercontent.com&redirect_uri=urn%3aietf%3awg%3aoauth%3a2.0%3aoob&response_type=code&scope=email%20https%3a%2f%2fwww.googleapis.com%2fauth%2fdocs.test%20https%3a%2f%2fwww.googleapis.com%2fauth%2fdrive%20https%3a%2f%2fwww.googleapis.com%2fauth%2fdrive.photos.readonly%20https%3a%2f%2fwww.googleapis.com%2fauth%2fpeopleapi.readonly\n",
            "\n",
            "Enter your authorization code:\n",
            "··········\n",
            "Mounted at /content/drive/\n"
          ],
          "name": "stdout"
        }
      ]
    },
    {
      "cell_type": "code",
      "metadata": {
        "id": "7S9f2qnPUu3u",
        "colab_type": "code",
        "colab": {}
      },
      "source": [
        "import pandas as pd\n",
        "import numpy as np\n",
        "ECG_DATA=np.load('/content/drive/My Drive/sejong/ECG_DATA.npy')\n"
      ],
      "execution_count": 0,
      "outputs": []
    },
    {
      "cell_type": "code",
      "metadata": {
        "id": "MozBZax7CfXS",
        "colab_type": "code",
        "outputId": "fa34d9da-8ca9-4837-a508-86ddcd8b8e82",
        "colab": {
          "base_uri": "https://localhost:8080/",
          "height": 35
        }
      },
      "source": [
        "ECG_DATA.shape"
      ],
      "execution_count": 4,
      "outputs": [
        {
          "output_type": "execute_result",
          "data": {
            "text/plain": [
              "(5000, 12, 5000)"
            ]
          },
          "metadata": {
            "tags": []
          },
          "execution_count": 4
        }
      ]
    },
    {
      "cell_type": "code",
      "metadata": {
        "id": "8rquL9iYDySE",
        "colab_type": "code",
        "outputId": "1c01a6c2-aef8-4d32-d3e3-ca06b9bc175e",
        "colab": {
          "base_uri": "https://localhost:8080/",
          "height": 899
        }
      },
      "source": [
        "ECG_DATA"
      ],
      "execution_count": 5,
      "outputs": [
        {
          "output_type": "execute_result",
          "data": {
            "text/plain": [
              "array([[[-253.76, -253.76, -253.76, ...,  -34.16,   24.4 ,    4.88],\n",
              "        [ 263.52,  263.52,  263.52, ...,  -68.32,  -48.8 ,  -34.16],\n",
              "        [ 517.28,  517.28,  517.28, ...,  -34.16,  -73.2 ,  -39.04],\n",
              "        ...,\n",
              "        [ 810.08,  810.08,  810.08, ..., -204.96, -200.08, -170.8 ],\n",
              "        [ 810.08,  810.08,  810.08, ..., -200.08, -195.2 , -165.92],\n",
              "        [ 527.04,  527.04,  527.04, ...,  102.48,   92.72,  112.24]],\n",
              "\n",
              "       [[  -9.76,  -24.4 ,  -19.52, ...,   14.64,    9.76,    9.76],\n",
              "        [   9.76,  -19.52,  -19.52, ...,    9.76,    9.76,    9.76],\n",
              "        [  19.52,    4.88,    0.  , ...,   -4.88,    0.  ,    0.  ],\n",
              "        ...,\n",
              "        [  53.68,   34.16,   34.16, ...,  -14.64,  -19.52,  -24.4 ],\n",
              "        [  48.8 ,   34.16,   34.16, ...,  -19.52,  -24.4 ,  -29.28],\n",
              "        [   0.  ,  -14.64,   -9.76, ...,    4.88,    0.  ,   -4.88]],\n",
              "\n",
              "       [[ -29.28,  -19.52,   -9.76, ...,   73.2 ,   78.08,   73.2 ],\n",
              "        [ -63.44,  -53.68,  -43.92, ...,  -68.32,  -68.32,  -73.2 ],\n",
              "        [ -34.16,  -34.16,  -34.16, ..., -141.52, -146.4 , -146.4 ],\n",
              "        ...,\n",
              "        [ 317.2 ,  326.96,  341.6 , ...,  136.64,  136.64,  136.64],\n",
              "        [  63.44,   58.56,   73.2 , ...,  224.48,  219.6 ,  214.72],\n",
              "        [ -14.64,   -9.76,    0.  , ...,  287.92,  283.04,  253.76]],\n",
              "\n",
              "       ...,\n",
              "\n",
              "       [[  34.16,   29.28,   14.64, ...,  -14.64,   -9.76,   -4.88],\n",
              "        [  39.04,   43.92,   24.4 , ...,   14.64,   19.52,    9.76],\n",
              "        [   4.88,   14.64,    9.76, ...,   29.28,   29.28,   14.64],\n",
              "        ...,\n",
              "        [ -53.68,  -58.56,  -53.68, ...,    4.88,    9.76,   -4.88],\n",
              "        [ -43.92,  -43.92,  -48.8 , ...,   19.52,   19.52,    4.88],\n",
              "        [  19.52,   14.64,    9.76, ...,  -43.92,  -48.8 ,  -63.44]],\n",
              "\n",
              "       [[   9.76,    9.76,    9.76, ...,   97.6 ,   97.6 ,   92.72],\n",
              "        [ -39.04,  -39.04,  -39.04, ...,  -63.44,  -58.56,  -73.2 ],\n",
              "        [ -48.8 ,  -48.8 ,  -48.8 , ..., -161.04, -156.16, -165.92],\n",
              "        ...,\n",
              "        [ -78.08,  -78.08,  -78.08, ...,  204.96,  204.96,  200.08],\n",
              "        [  68.32,   68.32,   68.32, ...,  -97.6 ,  -97.6 , -107.36],\n",
              "        [   0.  ,    0.  ,    0.  , ...,   34.16,   39.04,   29.28]],\n",
              "\n",
              "       [[   0.  ,    0.  ,    0.  , ...,    9.76,    9.76,    9.76],\n",
              "        [   9.76,    9.76,    9.76, ...,   39.04,   39.04,   48.8 ],\n",
              "        [   9.76,    9.76,    9.76, ...,   29.28,   29.28,   39.04],\n",
              "        ...,\n",
              "        [  39.04,   39.04,   39.04, ...,  122.  ,  117.12,  117.12],\n",
              "        [   0.  ,    0.  ,    0.  , ...,   97.6 ,   97.6 ,   97.6 ],\n",
              "        [  78.08,   78.08,   78.08, ...,  -87.84,  -87.84,  -97.6 ]]])"
            ]
          },
          "metadata": {
            "tags": []
          },
          "execution_count": 5
        }
      ]
    },
    {
      "cell_type": "code",
      "metadata": {
        "id": "OJT0PBvwrwnu",
        "colab_type": "code",
        "outputId": "b397dcea-afee-44d6-9098-8ef27d46f501",
        "colab": {
          "base_uri": "https://localhost:8080/",
          "height": 145
        }
      },
      "source": [
        "df=pd.read_excel('/content/drive/My Drive/세종병원/Data/Diagnostics.xlsx')\n",
        "label_df=df[['PatientAge','Gender']]\n",
        "label_df.loc[label_df.Gender=='MALE','Gender']=1\n",
        "label_df.loc[label_df.Gender=='FEMALE','Gender']=0"
      ],
      "execution_count": 6,
      "outputs": [
        {
          "output_type": "stream",
          "text": [
            "/usr/local/lib/python3.6/dist-packages/pandas/core/indexing.py:966: SettingWithCopyWarning: \n",
            "A value is trying to be set on a copy of a slice from a DataFrame.\n",
            "Try using .loc[row_indexer,col_indexer] = value instead\n",
            "\n",
            "See the caveats in the documentation: https://pandas.pydata.org/pandas-docs/stable/user_guide/indexing.html#returning-a-view-versus-a-copy\n",
            "  self.obj[item] = s\n"
          ],
          "name": "stderr"
        }
      ]
    },
    {
      "cell_type": "code",
      "metadata": {
        "id": "niFINBp5QHQL",
        "colab_type": "code",
        "outputId": "3ac2ecad-c5c2-4120-fb00-c54b07a05fe9",
        "colab": {
          "base_uri": "https://localhost:8080/",
          "height": 417
        }
      },
      "source": [
        "label_df"
      ],
      "execution_count": 7,
      "outputs": [
        {
          "output_type": "execute_result",
          "data": {
            "text/html": [
              "<div>\n",
              "<style scoped>\n",
              "    .dataframe tbody tr th:only-of-type {\n",
              "        vertical-align: middle;\n",
              "    }\n",
              "\n",
              "    .dataframe tbody tr th {\n",
              "        vertical-align: top;\n",
              "    }\n",
              "\n",
              "    .dataframe thead th {\n",
              "        text-align: right;\n",
              "    }\n",
              "</style>\n",
              "<table border=\"1\" class=\"dataframe\">\n",
              "  <thead>\n",
              "    <tr style=\"text-align: right;\">\n",
              "      <th></th>\n",
              "      <th>PatientAge</th>\n",
              "      <th>Gender</th>\n",
              "    </tr>\n",
              "  </thead>\n",
              "  <tbody>\n",
              "    <tr>\n",
              "      <th>0</th>\n",
              "      <td>85</td>\n",
              "      <td>1</td>\n",
              "    </tr>\n",
              "    <tr>\n",
              "      <th>1</th>\n",
              "      <td>59</td>\n",
              "      <td>0</td>\n",
              "    </tr>\n",
              "    <tr>\n",
              "      <th>2</th>\n",
              "      <td>20</td>\n",
              "      <td>0</td>\n",
              "    </tr>\n",
              "    <tr>\n",
              "      <th>3</th>\n",
              "      <td>66</td>\n",
              "      <td>1</td>\n",
              "    </tr>\n",
              "    <tr>\n",
              "      <th>4</th>\n",
              "      <td>73</td>\n",
              "      <td>0</td>\n",
              "    </tr>\n",
              "    <tr>\n",
              "      <th>...</th>\n",
              "      <td>...</td>\n",
              "      <td>...</td>\n",
              "    </tr>\n",
              "    <tr>\n",
              "      <th>10641</th>\n",
              "      <td>80</td>\n",
              "      <td>0</td>\n",
              "    </tr>\n",
              "    <tr>\n",
              "      <th>10642</th>\n",
              "      <td>81</td>\n",
              "      <td>0</td>\n",
              "    </tr>\n",
              "    <tr>\n",
              "      <th>10643</th>\n",
              "      <td>39</td>\n",
              "      <td>1</td>\n",
              "    </tr>\n",
              "    <tr>\n",
              "      <th>10644</th>\n",
              "      <td>76</td>\n",
              "      <td>1</td>\n",
              "    </tr>\n",
              "    <tr>\n",
              "      <th>10645</th>\n",
              "      <td>75</td>\n",
              "      <td>1</td>\n",
              "    </tr>\n",
              "  </tbody>\n",
              "</table>\n",
              "<p>10646 rows × 2 columns</p>\n",
              "</div>"
            ],
            "text/plain": [
              "       PatientAge Gender\n",
              "0              85      1\n",
              "1              59      0\n",
              "2              20      0\n",
              "3              66      1\n",
              "4              73      0\n",
              "...           ...    ...\n",
              "10641          80      0\n",
              "10642          81      0\n",
              "10643          39      1\n",
              "10644          76      1\n",
              "10645          75      1\n",
              "\n",
              "[10646 rows x 2 columns]"
            ]
          },
          "metadata": {
            "tags": []
          },
          "execution_count": 7
        }
      ]
    },
    {
      "cell_type": "code",
      "metadata": {
        "id": "U2oO1WwSvcUM",
        "colab_type": "code",
        "colab": {}
      },
      "source": [
        "Age=label_df.PatientAge[:ECG_DATA.shape[0]]\n",
        "Sex=label_df.Gender[:ECG_DATA.shape[0]]"
      ],
      "execution_count": 0,
      "outputs": []
    },
    {
      "cell_type": "code",
      "metadata": {
        "id": "AwGRG_mAQMdJ",
        "colab_type": "code",
        "outputId": "0870b284-763d-4d8e-e6e3-ce1d34f6b1c9",
        "colab": {
          "base_uri": "https://localhost:8080/",
          "height": 215
        }
      },
      "source": [
        "Age.head(10)"
      ],
      "execution_count": 9,
      "outputs": [
        {
          "output_type": "execute_result",
          "data": {
            "text/plain": [
              "0    85\n",
              "1    59\n",
              "2    20\n",
              "3    66\n",
              "4    73\n",
              "5    46\n",
              "6    80\n",
              "7    46\n",
              "8    45\n",
              "9    47\n",
              "Name: PatientAge, dtype: int64"
            ]
          },
          "metadata": {
            "tags": []
          },
          "execution_count": 9
        }
      ]
    },
    {
      "cell_type": "code",
      "metadata": {
        "id": "7VIbCUx1sDNb",
        "colab_type": "code",
        "colab": {}
      },
      "source": [
        "from sklearn.model_selection import train_test_split \n",
        "X_train,X_test,y_train,y_test=train_test_split(ECG_DATA,Age,test_size=0.36,random_state=42)\n",
        "# 1750개의 데이터를 64:36 으로 train 데이터와 test데이터로 나눠줌."
      ],
      "execution_count": 0,
      "outputs": []
    },
    {
      "cell_type": "code",
      "metadata": {
        "id": "oBnZLY7oscKV",
        "colab_type": "code",
        "colab": {}
      },
      "source": [
        "from sklearn.model_selection import train_test_split \n",
        "X_train,X_val,y_train,y_val=train_test_split(X_train,y_train,test_size=0.25,random_state=42)\n",
        "# train 데이터를 75:25로 train 데이터와 validation 데이터로 나눠줌."
      ],
      "execution_count": 0,
      "outputs": []
    },
    {
      "cell_type": "code",
      "metadata": {
        "id": "B2ejnTrkst-V",
        "colab_type": "code",
        "outputId": "3c2da26d-ef76-459a-829a-074ebf94b0a5",
        "colab": {
          "base_uri": "https://localhost:8080/",
          "height": 71
        }
      },
      "source": [
        "print(X_train.shape)\n",
        "print(X_val.shape)\n",
        "print(X_test.shape)"
      ],
      "execution_count": 12,
      "outputs": [
        {
          "output_type": "stream",
          "text": [
            "(2400, 12, 5000)\n",
            "(800, 12, 5000)\n",
            "(1800, 12, 5000)\n"
          ],
          "name": "stdout"
        }
      ]
    },
    {
      "cell_type": "code",
      "metadata": {
        "id": "yty_mFFLuKeS",
        "colab_type": "code",
        "colab": {}
      },
      "source": [
        "# X데이터를 2차원에서 3차원으로 변환(train,val,test 각각에 대해)\n",
        "X_train_3=X_train.reshape(X_train.shape[0],12,5000,1)\n",
        "X_val_3=X_val.reshape(X_val.shape[0],12,5000,1)\n",
        "X_test_3=X_test.reshape(X_test.shape[0],12,5000,1)"
      ],
      "execution_count": 0,
      "outputs": []
    },
    {
      "cell_type": "code",
      "metadata": {
        "id": "M8dLZOJDvQ-6",
        "colab_type": "code",
        "colab": {}
      },
      "source": [
        "from keras.models import Sequential\n",
        "from keras.layers import Conv2D,MaxPooling2D,ZeroPadding2D,Activation,BatchNormalization\n",
        "\n",
        "# Temporal Analysis\n",
        "\n",
        "model=Sequential()\n",
        "\n",
        "model.add(ZeroPadding2D(padding=(0,2560),\n",
        "                       input_shape=(12,5000,1)))\n",
        "\n",
        "model.add(Conv2D(filters=16,\n",
        "                kernel_size=(1,7)))\n",
        "model.add(BatchNormalization())\n",
        "model.add(Activation('relu'))\n",
        "model.add(MaxPooling2D((1,2)))\n",
        "\n",
        "model.add(Conv2D(filters=16,\n",
        "                kernel_size=(1,5)))\n",
        "model.add(BatchNormalization())\n",
        "model.add(Activation('relu'))\n",
        "model.add(MaxPooling2D((1,4)))\n",
        "\n",
        "model.add(Conv2D(filters=32,\n",
        "                kernel_size=(1,5)))\n",
        "model.add(BatchNormalization())\n",
        "model.add(Activation('relu'))\n",
        "model.add(MaxPooling2D((1,2)))\n",
        "\n",
        "model.add(Conv2D(filters=32,\n",
        "                kernel_size=(1,5)))\n",
        "model.add(BatchNormalization())\n",
        "model.add(Activation('relu'))\n",
        "model.add(MaxPooling2D((1,4)))\n",
        "\n",
        "model.add(Conv2D(filters=64,\n",
        "                kernel_size=(1,5)))\n",
        "model.add(BatchNormalization())\n",
        "model.add(Activation('relu'))\n",
        "model.add(MaxPooling2D((1,2)))\n",
        "\n",
        "model.add(Conv2D(filters=64,\n",
        "                kernel_size=(1,3)))\n",
        "model.add(BatchNormalization())\n",
        "model.add(Activation('relu'))\n",
        "model.add(MaxPooling2D((1,2)))\n",
        "\n",
        "model.add(Conv2D(filters=64,\n",
        "                kernel_size=(1,3)))\n",
        "model.add(BatchNormalization())\n",
        "model.add(Activation('relu'))\n",
        "model.add(MaxPooling2D((1,2)))\n",
        "\n",
        "model.add(Conv2D(filters=64,\n",
        "                kernel_size=(1,3)))\n",
        "model.add(BatchNormalization())\n",
        "model.add(Activation('relu'))"
      ],
      "execution_count": 0,
      "outputs": []
    },
    {
      "cell_type": "code",
      "metadata": {
        "id": "jpJsFWT1Ejk9",
        "colab_type": "code",
        "colab": {}
      },
      "source": [
        "# Spatial Analysis\n",
        "\n",
        "model.add(Conv2D(filters=128,\n",
        "                kernel_size=(12,1)))\n",
        "model.add(BatchNormalization())\n",
        "model.add(Activation('relu'))\n",
        "model.add(MaxPooling2D((1,2)))\n"
      ],
      "execution_count": 0,
      "outputs": []
    },
    {
      "cell_type": "code",
      "metadata": {
        "id": "R5kX-ivPElCy",
        "colab_type": "code",
        "colab": {}
      },
      "source": [
        "# Fully Connected\n",
        "\n",
        "from keras.layers import Dense,BatchNormalization, Dropout,Flatten\n",
        "\n",
        "model.add(Flatten())\n",
        "\n",
        "\n",
        "model.add(Dense(128,input_dim=(1,5080)))\n",
        "model.add(BatchNormalization())\n",
        "model.add(Activation('relu'))\n",
        "model.add(Dropout(0.2)) # 조절\n",
        "\n",
        "model.add(Dense(64,input_dim=(1,5080)))\n",
        "model.add(BatchNormalization())\n",
        "model.add(Activation('relu'))\n",
        "model.add(Dropout(0.2)) # 조절\n",
        "\n",
        "#model.add(Activation('softmax'))\n",
        "model.add(Dense(1,activation='linear'))"
      ],
      "execution_count": 0,
      "outputs": []
    },
    {
      "cell_type": "code",
      "metadata": {
        "id": "DEI4ryc2Ek75",
        "colab_type": "code",
        "outputId": "67cf25fc-5059-40b3-d368-0024bb7b9c9d",
        "colab": {
          "base_uri": "https://localhost:8080/",
          "height": 1000
        }
      },
      "source": [
        "model.summary()"
      ],
      "execution_count": 17,
      "outputs": [
        {
          "output_type": "stream",
          "text": [
            "Model: \"sequential_1\"\n",
            "_________________________________________________________________\n",
            "Layer (type)                 Output Shape              Param #   \n",
            "=================================================================\n",
            "zero_padding2d_1 (ZeroPaddin (None, 12, 10120, 1)      0         \n",
            "_________________________________________________________________\n",
            "conv2d_1 (Conv2D)            (None, 12, 10114, 16)     128       \n",
            "_________________________________________________________________\n",
            "batch_normalization_1 (Batch (None, 12, 10114, 16)     64        \n",
            "_________________________________________________________________\n",
            "activation_1 (Activation)    (None, 12, 10114, 16)     0         \n",
            "_________________________________________________________________\n",
            "max_pooling2d_1 (MaxPooling2 (None, 12, 5057, 16)      0         \n",
            "_________________________________________________________________\n",
            "conv2d_2 (Conv2D)            (None, 12, 5053, 16)      1296      \n",
            "_________________________________________________________________\n",
            "batch_normalization_2 (Batch (None, 12, 5053, 16)      64        \n",
            "_________________________________________________________________\n",
            "activation_2 (Activation)    (None, 12, 5053, 16)      0         \n",
            "_________________________________________________________________\n",
            "max_pooling2d_2 (MaxPooling2 (None, 12, 1263, 16)      0         \n",
            "_________________________________________________________________\n",
            "conv2d_3 (Conv2D)            (None, 12, 1259, 32)      2592      \n",
            "_________________________________________________________________\n",
            "batch_normalization_3 (Batch (None, 12, 1259, 32)      128       \n",
            "_________________________________________________________________\n",
            "activation_3 (Activation)    (None, 12, 1259, 32)      0         \n",
            "_________________________________________________________________\n",
            "max_pooling2d_3 (MaxPooling2 (None, 12, 629, 32)       0         \n",
            "_________________________________________________________________\n",
            "conv2d_4 (Conv2D)            (None, 12, 625, 32)       5152      \n",
            "_________________________________________________________________\n",
            "batch_normalization_4 (Batch (None, 12, 625, 32)       128       \n",
            "_________________________________________________________________\n",
            "activation_4 (Activation)    (None, 12, 625, 32)       0         \n",
            "_________________________________________________________________\n",
            "max_pooling2d_4 (MaxPooling2 (None, 12, 156, 32)       0         \n",
            "_________________________________________________________________\n",
            "conv2d_5 (Conv2D)            (None, 12, 152, 64)       10304     \n",
            "_________________________________________________________________\n",
            "batch_normalization_5 (Batch (None, 12, 152, 64)       256       \n",
            "_________________________________________________________________\n",
            "activation_5 (Activation)    (None, 12, 152, 64)       0         \n",
            "_________________________________________________________________\n",
            "max_pooling2d_5 (MaxPooling2 (None, 12, 76, 64)        0         \n",
            "_________________________________________________________________\n",
            "conv2d_6 (Conv2D)            (None, 12, 74, 64)        12352     \n",
            "_________________________________________________________________\n",
            "batch_normalization_6 (Batch (None, 12, 74, 64)        256       \n",
            "_________________________________________________________________\n",
            "activation_6 (Activation)    (None, 12, 74, 64)        0         \n",
            "_________________________________________________________________\n",
            "max_pooling2d_6 (MaxPooling2 (None, 12, 37, 64)        0         \n",
            "_________________________________________________________________\n",
            "conv2d_7 (Conv2D)            (None, 12, 35, 64)        12352     \n",
            "_________________________________________________________________\n",
            "batch_normalization_7 (Batch (None, 12, 35, 64)        256       \n",
            "_________________________________________________________________\n",
            "activation_7 (Activation)    (None, 12, 35, 64)        0         \n",
            "_________________________________________________________________\n",
            "max_pooling2d_7 (MaxPooling2 (None, 12, 17, 64)        0         \n",
            "_________________________________________________________________\n",
            "conv2d_8 (Conv2D)            (None, 12, 15, 64)        12352     \n",
            "_________________________________________________________________\n",
            "batch_normalization_8 (Batch (None, 12, 15, 64)        256       \n",
            "_________________________________________________________________\n",
            "activation_8 (Activation)    (None, 12, 15, 64)        0         \n",
            "_________________________________________________________________\n",
            "conv2d_9 (Conv2D)            (None, 1, 15, 128)        98432     \n",
            "_________________________________________________________________\n",
            "batch_normalization_9 (Batch (None, 1, 15, 128)        512       \n",
            "_________________________________________________________________\n",
            "activation_9 (Activation)    (None, 1, 15, 128)        0         \n",
            "_________________________________________________________________\n",
            "max_pooling2d_8 (MaxPooling2 (None, 1, 7, 128)         0         \n",
            "_________________________________________________________________\n",
            "flatten_1 (Flatten)          (None, 896)               0         \n",
            "_________________________________________________________________\n",
            "dense_1 (Dense)              (None, 128)               114816    \n",
            "_________________________________________________________________\n",
            "batch_normalization_10 (Batc (None, 128)               512       \n",
            "_________________________________________________________________\n",
            "activation_10 (Activation)   (None, 128)               0         \n",
            "_________________________________________________________________\n",
            "dropout_1 (Dropout)          (None, 128)               0         \n",
            "_________________________________________________________________\n",
            "dense_2 (Dense)              (None, 64)                8256      \n",
            "_________________________________________________________________\n",
            "batch_normalization_11 (Batc (None, 64)                256       \n",
            "_________________________________________________________________\n",
            "activation_11 (Activation)   (None, 64)                0         \n",
            "_________________________________________________________________\n",
            "dropout_2 (Dropout)          (None, 64)                0         \n",
            "_________________________________________________________________\n",
            "dense_3 (Dense)              (None, 1)                 65        \n",
            "=================================================================\n",
            "Total params: 280,785\n",
            "Trainable params: 279,441\n",
            "Non-trainable params: 1,344\n",
            "_________________________________________________________________\n"
          ],
          "name": "stdout"
        }
      ]
    },
    {
      "cell_type": "code",
      "metadata": {
        "id": "ocT2F7-YEkxq",
        "colab_type": "code",
        "colab": {}
      },
      "source": [
        "model.compile(loss='mean_squared_error',optimizer='adam',metrics=['mae'])"
      ],
      "execution_count": 0,
      "outputs": []
    },
    {
      "cell_type": "code",
      "metadata": {
        "id": "HYRzdFo9EoYS",
        "colab_type": "code",
        "outputId": "027b16a6-fd0e-4715-e8f4-c3f36e752acc",
        "colab": {
          "base_uri": "https://localhost:8080/",
          "height": 1000
        }
      },
      "source": [
        "from keras.callbacks import EarlyStopping, ModelCheckpoint\n",
        "\n",
        "early_stop = EarlyStopping(patience=30)\n",
        "\n",
        "batch_size = 64\n",
        "epochs = 100\n",
        "\n",
        "history = model.fit(X_train_3,y_train,\n",
        "                   validation_data=(X_val_3,y_val),\n",
        "                    batch_size=batch_size,\n",
        "                    nb_epoch=epochs, verbose=1,\n",
        "                    callbacks=[early_stop]\n",
        "                   )"
      ],
      "execution_count": 19,
      "outputs": [
        {
          "output_type": "stream",
          "text": [
            "/usr/local/lib/python3.6/dist-packages/ipykernel_launcher.py:12: UserWarning: The `nb_epoch` argument in `fit` has been renamed `epochs`.\n",
            "  if sys.path[0] == '':\n"
          ],
          "name": "stderr"
        },
        {
          "output_type": "stream",
          "text": [
            "Train on 2400 samples, validate on 800 samples\n",
            "Epoch 1/100\n",
            "2400/2400 [==============================] - 36s 15ms/step - loss: 3814.5550 - mae: 59.2174 - val_loss: 4138.9443 - val_mae: 62.0630\n",
            "Epoch 2/100\n",
            "2400/2400 [==============================] - 27s 11ms/step - loss: 3611.7841 - mae: 57.6917 - val_loss: 3630.9780 - val_mae: 58.0489\n",
            "Epoch 3/100\n",
            "2400/2400 [==============================] - 27s 11ms/step - loss: 3429.1958 - mae: 56.2372 - val_loss: 3291.8489 - val_mae: 55.0684\n",
            "Epoch 4/100\n",
            "2400/2400 [==============================] - 27s 11ms/step - loss: 3241.8696 - mae: 54.7313 - val_loss: 3082.4751 - val_mae: 53.2450\n",
            "Epoch 5/100\n",
            "2400/2400 [==============================] - 27s 11ms/step - loss: 3041.7891 - mae: 53.0149 - val_loss: 2043.6327 - val_mae: 42.7432\n",
            "Epoch 6/100\n",
            "2400/2400 [==============================] - 27s 11ms/step - loss: 2823.3958 - mae: 51.0397 - val_loss: 2496.9257 - val_mae: 47.8489\n",
            "Epoch 7/100\n",
            "2400/2400 [==============================] - 27s 11ms/step - loss: 2599.0393 - mae: 48.8531 - val_loss: 2408.2573 - val_mae: 46.9409\n",
            "Epoch 8/100\n",
            "2400/2400 [==============================] - 27s 11ms/step - loss: 2361.4082 - mae: 46.4664 - val_loss: 1727.1210 - val_mae: 39.1975\n",
            "Epoch 9/100\n",
            "2400/2400 [==============================] - 27s 11ms/step - loss: 2123.6046 - mae: 43.9068 - val_loss: 1278.4050 - val_mae: 32.9294\n",
            "Epoch 10/100\n",
            "2400/2400 [==============================] - 27s 11ms/step - loss: 1882.1983 - mae: 41.1524 - val_loss: 921.4033 - val_mae: 27.5936\n",
            "Epoch 11/100\n",
            "2400/2400 [==============================] - 27s 11ms/step - loss: 1638.7035 - mae: 38.1681 - val_loss: 549.6588 - val_mae: 20.6430\n",
            "Epoch 12/100\n",
            "2400/2400 [==============================] - 27s 11ms/step - loss: 1389.9735 - mae: 34.8782 - val_loss: 1657.6961 - val_mae: 37.1728\n",
            "Epoch 13/100\n",
            "2400/2400 [==============================] - 27s 11ms/step - loss: 1170.8366 - mae: 31.5356 - val_loss: 1289.3083 - val_mae: 32.3092\n",
            "Epoch 14/100\n",
            "2400/2400 [==============================] - 27s 11ms/step - loss: 964.3928 - mae: 28.2873 - val_loss: 548.1148 - val_mae: 20.2660\n",
            "Epoch 15/100\n",
            "2400/2400 [==============================] - 27s 11ms/step - loss: 777.0991 - mae: 24.9279 - val_loss: 439.8582 - val_mae: 17.8980\n",
            "Epoch 16/100\n",
            "2400/2400 [==============================] - 27s 11ms/step - loss: 637.8227 - mae: 22.1938 - val_loss: 455.8467 - val_mae: 18.0287\n",
            "Epoch 17/100\n",
            "2400/2400 [==============================] - 27s 11ms/step - loss: 502.0730 - mae: 19.1955 - val_loss: 326.7935 - val_mae: 14.9416\n",
            "Epoch 18/100\n",
            "2400/2400 [==============================] - 27s 11ms/step - loss: 388.7232 - mae: 16.5561 - val_loss: 312.6054 - val_mae: 14.4895\n",
            "Epoch 19/100\n",
            "2400/2400 [==============================] - 27s 11ms/step - loss: 310.6501 - mae: 14.5140 - val_loss: 345.4151 - val_mae: 15.5411\n",
            "Epoch 20/100\n",
            "2400/2400 [==============================] - 27s 11ms/step - loss: 243.7875 - mae: 12.6641 - val_loss: 343.3302 - val_mae: 15.6214\n",
            "Epoch 21/100\n",
            "2400/2400 [==============================] - 27s 11ms/step - loss: 205.7470 - mae: 11.4400 - val_loss: 200.8156 - val_mae: 11.4636\n",
            "Epoch 22/100\n",
            "2400/2400 [==============================] - 27s 11ms/step - loss: 177.7587 - mae: 10.6773 - val_loss: 243.8096 - val_mae: 12.8290\n",
            "Epoch 23/100\n",
            "2400/2400 [==============================] - 27s 11ms/step - loss: 141.8677 - mae: 9.3845 - val_loss: 206.1542 - val_mae: 11.3515\n",
            "Epoch 24/100\n",
            "2400/2400 [==============================] - 27s 11ms/step - loss: 118.6704 - mae: 8.6151 - val_loss: 200.9773 - val_mae: 11.6773\n",
            "Epoch 25/100\n",
            "2400/2400 [==============================] - 27s 11ms/step - loss: 108.9700 - mae: 8.1980 - val_loss: 156.7932 - val_mae: 9.7542\n",
            "Epoch 26/100\n",
            "2400/2400 [==============================] - 27s 11ms/step - loss: 93.1264 - mae: 7.6658 - val_loss: 153.4342 - val_mae: 9.8256\n",
            "Epoch 27/100\n",
            "2400/2400 [==============================] - 27s 11ms/step - loss: 85.6971 - mae: 7.3160 - val_loss: 202.1261 - val_mae: 11.4496\n",
            "Epoch 28/100\n",
            "2400/2400 [==============================] - 27s 11ms/step - loss: 87.0778 - mae: 7.4213 - val_loss: 214.3016 - val_mae: 11.8722\n",
            "Epoch 29/100\n",
            "2400/2400 [==============================] - 27s 11ms/step - loss: 81.6558 - mae: 7.1299 - val_loss: 206.4756 - val_mae: 11.6852\n",
            "Epoch 30/100\n",
            "2400/2400 [==============================] - 27s 11ms/step - loss: 76.5720 - mae: 6.8992 - val_loss: 156.0427 - val_mae: 9.7057\n",
            "Epoch 31/100\n",
            "2400/2400 [==============================] - 27s 11ms/step - loss: 73.8644 - mae: 6.7629 - val_loss: 158.2854 - val_mae: 9.9023\n",
            "Epoch 32/100\n",
            "2400/2400 [==============================] - 27s 11ms/step - loss: 67.5396 - mae: 6.4935 - val_loss: 158.7060 - val_mae: 9.9557\n",
            "Epoch 33/100\n",
            "2400/2400 [==============================] - 27s 11ms/step - loss: 65.6677 - mae: 6.4104 - val_loss: 179.9955 - val_mae: 10.6114\n",
            "Epoch 34/100\n",
            "2400/2400 [==============================] - 27s 11ms/step - loss: 67.0139 - mae: 6.3525 - val_loss: 166.1899 - val_mae: 10.1935\n",
            "Epoch 35/100\n",
            "2400/2400 [==============================] - 27s 11ms/step - loss: 65.3252 - mae: 6.3485 - val_loss: 239.2753 - val_mae: 12.4624\n",
            "Epoch 36/100\n",
            "2400/2400 [==============================] - 27s 11ms/step - loss: 59.9659 - mae: 6.1309 - val_loss: 163.9826 - val_mae: 9.8993\n",
            "Epoch 37/100\n",
            "2400/2400 [==============================] - 27s 11ms/step - loss: 60.2366 - mae: 6.0868 - val_loss: 214.9250 - val_mae: 11.7409\n",
            "Epoch 38/100\n",
            "2400/2400 [==============================] - 27s 11ms/step - loss: 61.5918 - mae: 6.1878 - val_loss: 157.8420 - val_mae: 9.7741\n",
            "Epoch 39/100\n",
            "2400/2400 [==============================] - 27s 11ms/step - loss: 57.5879 - mae: 5.9613 - val_loss: 161.8277 - val_mae: 9.8873\n",
            "Epoch 40/100\n",
            "2400/2400 [==============================] - 27s 11ms/step - loss: 55.7098 - mae: 5.8382 - val_loss: 168.7099 - val_mae: 9.9982\n",
            "Epoch 41/100\n",
            "2400/2400 [==============================] - 27s 11ms/step - loss: 59.7020 - mae: 6.1590 - val_loss: 161.1645 - val_mae: 9.7128\n",
            "Epoch 42/100\n",
            "2400/2400 [==============================] - 27s 11ms/step - loss: 54.1981 - mae: 5.7885 - val_loss: 156.0365 - val_mae: 9.8520\n",
            "Epoch 43/100\n",
            "2400/2400 [==============================] - 27s 11ms/step - loss: 56.8163 - mae: 5.9357 - val_loss: 172.2572 - val_mae: 10.2855\n",
            "Epoch 44/100\n",
            "2400/2400 [==============================] - 27s 11ms/step - loss: 57.7322 - mae: 5.9763 - val_loss: 157.0966 - val_mae: 9.6616\n",
            "Epoch 45/100\n",
            "2400/2400 [==============================] - 27s 11ms/step - loss: 53.1324 - mae: 5.7845 - val_loss: 156.0302 - val_mae: 9.5750\n",
            "Epoch 46/100\n",
            "2400/2400 [==============================] - 27s 11ms/step - loss: 54.5406 - mae: 5.7905 - val_loss: 162.8927 - val_mae: 9.9533\n",
            "Epoch 47/100\n",
            "2400/2400 [==============================] - 27s 11ms/step - loss: 54.3967 - mae: 5.8351 - val_loss: 163.0059 - val_mae: 9.9984\n",
            "Epoch 48/100\n",
            "2400/2400 [==============================] - 27s 11ms/step - loss: 46.2407 - mae: 5.3143 - val_loss: 149.8893 - val_mae: 9.4061\n",
            "Epoch 49/100\n",
            "2400/2400 [==============================] - 27s 11ms/step - loss: 50.4929 - mae: 5.5790 - val_loss: 156.9001 - val_mae: 9.6534\n",
            "Epoch 50/100\n",
            "2400/2400 [==============================] - 27s 11ms/step - loss: 49.1713 - mae: 5.4749 - val_loss: 151.5688 - val_mae: 9.4795\n",
            "Epoch 51/100\n",
            "2400/2400 [==============================] - 27s 11ms/step - loss: 49.2068 - mae: 5.5383 - val_loss: 151.4776 - val_mae: 9.5133\n",
            "Epoch 52/100\n",
            "2400/2400 [==============================] - 27s 11ms/step - loss: 48.3213 - mae: 5.5279 - val_loss: 159.5400 - val_mae: 9.7478\n",
            "Epoch 53/100\n",
            "2400/2400 [==============================] - 27s 11ms/step - loss: 48.8411 - mae: 5.4841 - val_loss: 155.1784 - val_mae: 9.5394\n",
            "Epoch 54/100\n",
            "2400/2400 [==============================] - 27s 11ms/step - loss: 47.1398 - mae: 5.3785 - val_loss: 156.3468 - val_mae: 9.6500\n",
            "Epoch 55/100\n",
            "2400/2400 [==============================] - 27s 11ms/step - loss: 47.6348 - mae: 5.3527 - val_loss: 152.4475 - val_mae: 9.6266\n",
            "Epoch 56/100\n",
            "2400/2400 [==============================] - 27s 11ms/step - loss: 44.3079 - mae: 5.2571 - val_loss: 152.9485 - val_mae: 9.5033\n",
            "Epoch 57/100\n",
            "2400/2400 [==============================] - 27s 11ms/step - loss: 48.0564 - mae: 5.4296 - val_loss: 155.2140 - val_mae: 9.6207\n",
            "Epoch 58/100\n",
            "2400/2400 [==============================] - 27s 11ms/step - loss: 43.9922 - mae: 5.2302 - val_loss: 155.1301 - val_mae: 9.7382\n",
            "Epoch 59/100\n",
            "2400/2400 [==============================] - 27s 11ms/step - loss: 47.4962 - mae: 5.4332 - val_loss: 146.9476 - val_mae: 9.4206\n",
            "Epoch 60/100\n",
            "2400/2400 [==============================] - 27s 11ms/step - loss: 46.0790 - mae: 5.3423 - val_loss: 146.4681 - val_mae: 9.3054\n",
            "Epoch 61/100\n",
            "2400/2400 [==============================] - 27s 11ms/step - loss: 46.6317 - mae: 5.3356 - val_loss: 150.9623 - val_mae: 9.4634\n",
            "Epoch 62/100\n",
            "2400/2400 [==============================] - 27s 11ms/step - loss: 50.0080 - mae: 5.5963 - val_loss: 141.2619 - val_mae: 9.2785\n",
            "Epoch 63/100\n",
            "2400/2400 [==============================] - 27s 11ms/step - loss: 45.2836 - mae: 5.2625 - val_loss: 148.3408 - val_mae: 9.3192\n",
            "Epoch 64/100\n",
            "2400/2400 [==============================] - 27s 11ms/step - loss: 47.2324 - mae: 5.3495 - val_loss: 147.2627 - val_mae: 9.2465\n",
            "Epoch 65/100\n",
            "2400/2400 [==============================] - 27s 11ms/step - loss: 48.0550 - mae: 5.3916 - val_loss: 153.9642 - val_mae: 9.5208\n",
            "Epoch 66/100\n",
            "2400/2400 [==============================] - 27s 11ms/step - loss: 46.1269 - mae: 5.2777 - val_loss: 153.8777 - val_mae: 9.5176\n",
            "Epoch 67/100\n",
            "2400/2400 [==============================] - 27s 11ms/step - loss: 43.2950 - mae: 5.1679 - val_loss: 165.8562 - val_mae: 9.8709\n",
            "Epoch 68/100\n",
            "2400/2400 [==============================] - 27s 11ms/step - loss: 47.6772 - mae: 5.4297 - val_loss: 150.1106 - val_mae: 9.4665\n",
            "Epoch 69/100\n",
            "2400/2400 [==============================] - 27s 11ms/step - loss: 44.7118 - mae: 5.3186 - val_loss: 153.8965 - val_mae: 9.4660\n",
            "Epoch 70/100\n",
            "2400/2400 [==============================] - 27s 11ms/step - loss: 46.0692 - mae: 5.3236 - val_loss: 159.0033 - val_mae: 9.7807\n",
            "Epoch 71/100\n",
            "2400/2400 [==============================] - 27s 11ms/step - loss: 46.5217 - mae: 5.3660 - val_loss: 174.1332 - val_mae: 10.3606\n",
            "Epoch 72/100\n",
            "2400/2400 [==============================] - 27s 11ms/step - loss: 47.2741 - mae: 5.3949 - val_loss: 156.5157 - val_mae: 9.6993\n",
            "Epoch 73/100\n",
            "2400/2400 [==============================] - 27s 11ms/step - loss: 46.9142 - mae: 5.3928 - val_loss: 149.4803 - val_mae: 9.5214\n",
            "Epoch 74/100\n",
            "2400/2400 [==============================] - 27s 11ms/step - loss: 45.8299 - mae: 5.2815 - val_loss: 149.7866 - val_mae: 9.4934\n",
            "Epoch 75/100\n",
            "2400/2400 [==============================] - 27s 11ms/step - loss: 48.0550 - mae: 5.3641 - val_loss: 217.6504 - val_mae: 11.7558\n",
            "Epoch 76/100\n",
            "2400/2400 [==============================] - 27s 11ms/step - loss: 47.1120 - mae: 5.3408 - val_loss: 150.2092 - val_mae: 9.4187\n",
            "Epoch 77/100\n",
            "2400/2400 [==============================] - 27s 11ms/step - loss: 44.3402 - mae: 5.2633 - val_loss: 150.7421 - val_mae: 9.4471\n",
            "Epoch 78/100\n",
            "2400/2400 [==============================] - 27s 11ms/step - loss: 43.9636 - mae: 5.2099 - val_loss: 146.3972 - val_mae: 9.3688\n",
            "Epoch 79/100\n",
            "2400/2400 [==============================] - 27s 11ms/step - loss: 43.2366 - mae: 5.1466 - val_loss: 148.7191 - val_mae: 9.5141\n",
            "Epoch 80/100\n",
            "2400/2400 [==============================] - 27s 11ms/step - loss: 43.0411 - mae: 5.1237 - val_loss: 153.2204 - val_mae: 9.4514\n",
            "Epoch 81/100\n",
            "2400/2400 [==============================] - 27s 11ms/step - loss: 42.3065 - mae: 5.1600 - val_loss: 153.2778 - val_mae: 9.5271\n",
            "Epoch 82/100\n",
            "2400/2400 [==============================] - 27s 11ms/step - loss: 43.4418 - mae: 5.1278 - val_loss: 151.6148 - val_mae: 9.4215\n",
            "Epoch 83/100\n",
            "2400/2400 [==============================] - 27s 11ms/step - loss: 41.7941 - mae: 5.0716 - val_loss: 149.5071 - val_mae: 9.4416\n",
            "Epoch 84/100\n",
            "2400/2400 [==============================] - 27s 11ms/step - loss: 42.5694 - mae: 5.1879 - val_loss: 151.7213 - val_mae: 9.4028\n",
            "Epoch 85/100\n",
            "2400/2400 [==============================] - 27s 11ms/step - loss: 46.7488 - mae: 5.3332 - val_loss: 152.9264 - val_mae: 9.4870\n",
            "Epoch 86/100\n",
            "2400/2400 [==============================] - 27s 11ms/step - loss: 44.5573 - mae: 5.1503 - val_loss: 151.9698 - val_mae: 9.4047\n",
            "Epoch 87/100\n",
            "2400/2400 [==============================] - 27s 11ms/step - loss: 44.5482 - mae: 5.2625 - val_loss: 160.5526 - val_mae: 9.7799\n",
            "Epoch 88/100\n",
            "2400/2400 [==============================] - 27s 11ms/step - loss: 48.1578 - mae: 5.4750 - val_loss: 159.7619 - val_mae: 9.7650\n",
            "Epoch 89/100\n",
            "2400/2400 [==============================] - 27s 11ms/step - loss: 42.7012 - mae: 5.0734 - val_loss: 147.3215 - val_mae: 9.2151\n",
            "Epoch 90/100\n",
            "2400/2400 [==============================] - 27s 11ms/step - loss: 42.1546 - mae: 5.1026 - val_loss: 154.8039 - val_mae: 9.3735\n",
            "Epoch 91/100\n",
            "2400/2400 [==============================] - 27s 11ms/step - loss: 41.1419 - mae: 4.9761 - val_loss: 152.3501 - val_mae: 9.4412\n",
            "Epoch 92/100\n",
            "2400/2400 [==============================] - 27s 11ms/step - loss: 38.8526 - mae: 4.8704 - val_loss: 152.9417 - val_mae: 9.3536\n"
          ],
          "name": "stdout"
        }
      ]
    },
    {
      "cell_type": "code",
      "metadata": {
        "id": "YDlamEfnEoVO",
        "colab_type": "code",
        "outputId": "57d20160-94b5-4026-eda2-2d913e12db0c",
        "colab": {
          "base_uri": "https://localhost:8080/",
          "height": 89
        }
      },
      "source": [
        "train_mae = model.evaluate(X_train_3, y_train)\n",
        "test_mae = model.evaluate(X_test_3, y_test)\n",
        "\n",
        "print(\"Train Mae: \", train_mae)\n",
        "print(\"Test Mae: \", test_mae)"
      ],
      "execution_count": 22,
      "outputs": [
        {
          "output_type": "stream",
          "text": [
            "2400/2400 [==============================] - 7s 3ms/step\n",
            "1800/1800 [==============================] - 5s 3ms/step\n",
            "Train Mae:  [17.247334372202555, 3.185720205307007]\n",
            "Test Mae:  [146.58395633273653, 9.423209190368652]\n"
          ],
          "name": "stdout"
        }
      ]
    },
    {
      "cell_type": "code",
      "metadata": {
        "id": "vkxiIuisEoS4",
        "colab_type": "code",
        "outputId": "276d364a-57f6-4c42-d45d-e45e8db66bd0",
        "colab": {
          "base_uri": "https://localhost:8080/",
          "height": 573
        }
      },
      "source": [
        "import matplotlib.pyplot as plt\n",
        "\n",
        "plt.plot(history.history['mae'], 'g')\n",
        "plt.plot(history.history['val_mae'], 'r')\n",
        "\n",
        "plt.title('MAE')\n",
        "plt.xlabel('epoch')\n",
        "plt.ylabel('mae')\n",
        "plt.legend(['train', 'val'], loc='upper left')\n",
        "plt.show()\n",
        "\n",
        "plt.plot(history.history['loss'], 'g')\n",
        "plt.plot(history.history['val_loss'], 'r')\n",
        "\n",
        "plt.title('Loss')\n",
        "plt.xlabel('epoch')\n",
        "plt.ylabel('loss')\n",
        "plt.legend(['train', 'val'], loc='upper left')\n",
        "plt.show()"
      ],
      "execution_count": 24,
      "outputs": [
        {
          "output_type": "display_data",
          "data": {
            "image/png": "[encoded data removed]",
            "text/plain": [
              "<Figure size 432x288 with 1 Axes>"
            ]
          },
          "metadata": {
            "tags": [],
            "needs_background": "light"
          }
        },
        {
          "output_type": "display_data",
          "data": {
            "image/png": "[encoded data removed]",
            "text/plain": [
              "<Figure size 432x288 with 1 Axes>"
            ]
          },
          "metadata": {
            "tags": [],
            "needs_background": "light"
          }
        }
      ]
    },
    {
      "cell_type": "code",
      "metadata": {
        "id": "7J7eyFH_xrZX",
        "colab_type": "code",
        "colab": {}
      },
      "source": [
        ""
      ],
      "execution_count": 0,
      "outputs": []
    }
  ]
}